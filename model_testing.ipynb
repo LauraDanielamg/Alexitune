{
 "cells": [
  {
   "cell_type": "code",
   "execution_count": null,
   "metadata": {},
   "outputs": [],
   "source": [
    "from utils import  LyricSentiment"
   ]
  },
  {
   "cell_type": "code",
   "execution_count": null,
   "metadata": {},
   "outputs": [],
   "source": [
    "model_base = 'roberta-base'\n",
    "model_base_folder = f'{model_base}-goemotions/'\n",
    "model_large = 'roberta-large'\n",
    "model_large_folder = f'{model_large}-goemotions/'"
   ]
  },
  {
   "cell_type": "code",
   "execution_count": null,
   "metadata": {},
   "outputs": [],
   "source": [
    "LyricSentiment.set_model(model_base_folder)"
   ]
  },
  {
   "cell_type": "code",
   "execution_count": null,
   "metadata": {},
   "outputs": [],
   "source": [
    "raw_sentiments = LyricSentiment.__analyze(\"\"\"\n",
    "As I walked down the street, I noticed the leaves changing color\n",
    "It reminded me that time is always moving forward. I stopped to watch a squirrel scurry up a tree\n",
    "\"\"\"             \n",
    ")\n",
    "raw_sentiments"
   ]
  },
  {
   "cell_type": "code",
   "execution_count": null,
   "metadata": {},
   "outputs": [],
   "source": [
    "cleared_emotions = LyricSentiment.sentiments(\"\"\"\n",
    "As I walked down the street, I noticed the leaves changing color\n",
    "It reminded me that time is always moving forward. I stopped to watch a squirrel scurry up a tree\n",
    "\"\"\")\n",
    "cleared_emotions"
   ]
  }
 ],
 "metadata": {
  "language_info": {
   "name": "python"
  }
 },
 "nbformat": 4,
 "nbformat_minor": 2
}
