{
 "cells": [
  {
   "cell_type": "code",
   "execution_count": 29,
   "metadata": {},
   "outputs": [],
   "source": [
    "\"\"\"\n",
    "Para ignorar warnings de deprecated \n",
    "\"\"\"\n",
    "import warnings \n",
    "def fxn():\n",
    "    warnings.warn(\"deprecated\", DeprecationWarning)\n",
    "with warnings.catch_warnings(action=\"ignore\"):\n",
    "    fxn()"
   ]
  },
  {
   "cell_type": "code",
   "execution_count": 30,
   "metadata": {},
   "outputs": [],
   "source": [
    "from transformers import AutoTokenizer, AutoModelForSequenceClassification, pipeline\n",
    "import pandas as pd\n",
    "import torch"
   ]
  },
  {
   "cell_type": "markdown",
   "metadata": {},
   "source": [
    "# Taggeo de canciones por sentimientos"
   ]
  },
  {
   "cell_type": "code",
   "execution_count": 31,
   "metadata": {},
   "outputs": [],
   "source": [
    "tokenizer = AutoTokenizer.from_pretrained(\"SamLowe/roberta-base-go_emotions\")\n",
    "model = AutoModelForSequenceClassification.from_pretrained(\"SamLowe/roberta-base-go_emotions\")"
   ]
  },
  {
   "cell_type": "code",
   "execution_count": 32,
   "metadata": {},
   "outputs": [],
   "source": [
    "classifier = pipeline('text-classification', model=model, tokenizer=tokenizer)"
   ]
  },
  {
   "cell_type": "code",
   "execution_count": 33,
   "metadata": {},
   "outputs": [],
   "source": [
    "df = pd.read_csv('datasets\\songs_cleaned.csv')  #Tienes que tener el archivo\n",
    "\n",
    "df = df.head(1)"
   ]
  },
  {
   "cell_type": "code",
   "execution_count": 24,
   "metadata": {},
   "outputs": [],
   "source": [
    "def classify_and_return_probabilities(text):\n",
    "    inputs = tokenizer(text, return_tensors='pt')\n",
    "    outputs = model(**inputs)\n",
    "    logits = outputs.logits\n",
    "    probabilities = torch.softmax(logits, dim=-1)\n",
    "    return probabilities"
   ]
  },
  {
   "cell_type": "code",
   "execution_count": 34,
   "metadata": {},
   "outputs": [
    {
     "name": "stdout",
     "output_type": "stream",
     "text": [
      "admiration: 0.00057\n",
      "amusement: 0.82921\n",
      "anger: 0.00115\n",
      "annoyance: 0.00700\n",
      "approval: 0.00535\n",
      "caring: 0.00059\n",
      "confusion: 0.00039\n",
      "curiosity: 0.00047\n",
      "desire: 0.00040\n",
      "disappointment: 0.00070\n",
      "disapproval: 0.00119\n",
      "disgust: 0.00052\n",
      "embarrassment: 0.00040\n",
      "excitement: 0.00059\n",
      "fear: 0.00012\n",
      "gratitude: 0.00021\n",
      "grief: 0.00007\n",
      "joy: 0.00946\n",
      "love: 0.00078\n",
      "nervousness: 0.00011\n",
      "optimism: 0.00146\n",
      "pride: 0.00008\n",
      "realization: 0.00213\n",
      "relief: 0.00020\n",
      "remorse: 0.00017\n",
      "sadness: 0.00064\n",
      "surprise: 0.00016\n",
      "neutral: 0.13585\n"
     ]
    }
   ],
   "source": [
    "probabilities = classify_and_return_probabilities(lyrics)\n",
    "\n",
    "# Get the labels\n",
    "labels = model.config.id2label.values()\n",
    "\n",
    "# Print all labels and their corresponding probabilities\n",
    "for i, label in enumerate(labels):\n",
    "    print(f\"{label}: {probabilities[0][i].item():.5f}\")"
   ]
  }
 ],
 "metadata": {
  "kernelspec": {
   "display_name": "Python 3",
   "language": "python",
   "name": "python3"
  },
  "language_info": {
   "codemirror_mode": {
    "name": "ipython",
    "version": 3
   },
   "file_extension": ".py",
   "mimetype": "text/x-python",
   "name": "python",
   "nbconvert_exporter": "python",
   "pygments_lexer": "ipython3",
   "version": "3.11.5"
  }
 },
 "nbformat": 4,
 "nbformat_minor": 2
}
