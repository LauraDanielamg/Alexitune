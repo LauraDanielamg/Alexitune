{
 "cells": [
  {
   "cell_type": "code",
   "execution_count": 9,
   "metadata": {},
   "outputs": [
    {
     "name": "stderr",
     "output_type": "stream",
     "text": [
      "<>:22: SyntaxWarning: invalid escape sequence '\\s'\n",
      "<>:22: SyntaxWarning: invalid escape sequence '\\s'\n",
      "C:\\Users\\Ana\\AppData\\Local\\Temp\\ipykernel_2492\\1809785111.py:22: SyntaxWarning: invalid escape sequence '\\s'\n",
      "  df = pd.read_csv('datasets\\songs_cleaned.csv')  # Asegúrate de tener el archivo songs_cleaned.csv\n"
     ]
    },
    {
     "name": "stdout",
     "output_type": "stream",
     "text": [
      "Nervousness: 0.00553\n",
      "Annoyance: 0.34545\n",
      "Confusion: 0.01948\n",
      "Fear: 0.00614\n",
      "Anger: 0.05678\n",
      "Love: 0.03838\n",
      "Gratitude: 0.01029\n",
      "Sadness: 0.03172\n",
      "Desire: 0.01960\n",
      "Joy: 0.46663\n"
     ]
    }
   ],
   "source": [
    "# Importar las bibliotecas necesarias\n",
    "import warnings \n",
    "import pandas as pd\n",
    "import torch\n",
    "from transformers import AutoTokenizer, AutoModelForSequenceClassification\n",
    "\n",
    "\n",
    "# Ignorar las advertencias de deprecación\n",
    "def fxn():\n",
    "    warnings.warn(\"deprecated\", DeprecationWarning)\n",
    "with warnings.catch_warnings(action=\"ignore\"):\n",
    "    fxn()\n",
    "\n",
    "# Cargar el modelo y el tokenizer\n",
    "tokenizer = AutoTokenizer.from_pretrained(\"SamLowe/roberta-base-go_emotions\")\n",
    "model = AutoModelForSequenceClassification.from_pretrained(\"SamLowe/roberta-base-go_emotions\")\n",
    "\n",
    "# Leer el DataFrame con las letras de las canciones (solo las primeras 500 palabras)\n",
    "df = pd.read_csv('datasets/songs_cleaned.csv', nrows=500)  # Asegúrate de tener el archivo\n",
    "\n",
    "# Cargar el dataset de canciones\n",
    "df = pd.read_csv('datasets\\songs_cleaned.csv')  # Asegúrate de tener el archivo songs_cleaned.csv\n",
    "\n",
    "# Elegir una fila del DataFrame (por ejemplo, la primera fila)\n",
    "df_row = df.iloc[0]\n",
    "\n",
    "# Clasificar las emociones y devolver las probabilidades\n",
    "def classify_and_return_probabilities(text):\n",
    "    inputs = tokenizer(text, max_length=500, truncation=True, return_tensors='pt')\n",
    "    outputs = model(**inputs)\n",
    "    logits = outputs.logits\n",
    "    probabilities = torch.softmax(logits, dim=-1)\n",
    "    return probabilities\n",
    "\n",
    "# Texto de la canción\n",
    "lyrics = df_row['Lyrics']\n",
    "\n",
    "# Obtener las probabilidades de las emociones\n",
    "probabilities = classify_and_return_probabilities(lyrics)\n",
    "\n",
    "# Emociones que deseas calcular\n",
    "emotions = {'admiration', 'amusement', 'anger', 'annoyance', 'approval', 'caring', 'confusion', 'curiosity', 'desire', 'disappointment', 'disapproval', 'disgust', 'embarrassment', \n",
    "            'excitement', 'fear', 'gratitude', 'grief', 'joy', 'love', 'nervousness', 'optimism', 'pride', 'realization', 'relief', 'remorse', 'sadness', 'surprise', 'neutral'}\n",
    "non_useful_emotions = {'disgust','disappointment','grief','disapproval', 'amusement', 'excitement', 'optimism','caring', 'pride', 'admiration', 'relief', 'approval', 'realization', 'surprise', 'curiosity', 'remorse', 'embarrassment', 'neutral'}\n",
    "emotions_of_interest = emotions - non_useful_emotions\n",
    "\n",
    "# Calcular la probabilidad total solo para las emociones de interés\n",
    "total_probability = 0\n",
    "for emotion in emotions_of_interest:\n",
    "    index = model.config.label2id[emotion]\n",
    "    total_probability += probabilities[0][index].item()\n",
    "\n",
    "# Normalizar las probabilidades solo para las emociones de interés\n",
    "normalized_probabilities = []\n",
    "for emotion in emotions_of_interest:\n",
    "    index = model.config.label2id[emotion]\n",
    "    probability = probabilities[0][index].item() / total_probability\n",
    "    normalized_probabilities.append((emotion.capitalize(), probability))\n",
    "\n",
    "# Imprimir las probabilidades normalizadas\n",
    "for emotion, probability in normalized_probabilities:\n",
    "    print(f\"{emotion.capitalize()}: {probability:.5f}\")"
   ]
  },
  {
   "cell_type": "code",
   "execution_count": 8,
   "metadata": {},
   "outputs": [],
   "source": [
    "# Crear nuevas columnas para cada emoción útil\n",
    "for emotion in emotions:\n",
    "    df[emotion] = 0.0\n",
    "\n",
    "# Clasificar cada letra de canción y llenar las columnas correspondientes\n",
    "for i, lyrics in enumerate(df['Lyrics']):\n",
    "    probabilities = classify_and_return_probabilities(lyrics)\n",
    "    for j, emotion in enumerate(emotions):\n",
    "        emotion_id = model.config.label2id[emotion]\n",
    "        probability = probabilities[0][emotion_id].item()\n",
    "        df.at[i, emotion] = probability\n",
    "\n",
    "# Guardar el DataFrame modificado en un nuevo archivo CSV\n",
    "df.to_csv('songs_with_useful_emotions_500_words.csv', index=False)"
   ]
  }
 ],
 "metadata": {
  "kernelspec": {
   "display_name": "venv",
   "language": "python",
   "name": "python3"
  },
  "language_info": {
   "codemirror_mode": {
    "name": "ipython",
    "version": 3
   },
   "file_extension": ".py",
   "mimetype": "text/x-python",
   "name": "python",
   "nbconvert_exporter": "python",
   "pygments_lexer": "ipython3",
   "version": "3.12.2"
  }
 },
 "nbformat": 4,
 "nbformat_minor": 2
}
