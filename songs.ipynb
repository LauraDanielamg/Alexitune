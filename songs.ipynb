{
 "cells": [
  {
   "cell_type": "code",
   "execution_count": null,
   "metadata": {},
   "outputs": [],
   "source": [
    "from lyricsgenius import Genius\n",
    "token = 'utWUfzSpqx5D-0h6kdlftC_wWX9s2iPsMP5T5QP0phbGprepCLAjRBZP3cmnhZhB'\n",
    "genius = Genius(token, sleep_time=2)"
   ]
  },
  {
   "cell_type": "code",
   "execution_count": null,
   "metadata": {},
   "outputs": [],
   "source": [
    "from utils import ArtistSongs, Artists, Charts, Songs, Lyrics\n",
    "from utils.Charts import Chart, ChartList\n",
    "Artists.genius = genius\n",
    "ArtistSongs.genius = genius\n",
    "Charts.genius = genius\n",
    "Songs.genius = genius\n",
    "Lyrics.genius = genius"
   ]
  },
  {
   "cell_type": "code",
   "execution_count": null,
   "metadata": {},
   "outputs": [],
   "source": [
    "Charts.chart_download()"
   ]
  },
  {
   "cell_type": "code",
   "execution_count": null,
   "metadata": {},
   "outputs": [],
   "source": [
    "#if Songs.song_is_loaded() is not True: Songs.song_load()"
   ]
  },
  {
   "cell_type": "code",
   "execution_count": null,
   "metadata": {},
   "outputs": [],
   "source": [
    "#if Artists.artists_is_loaded() is not True: Artists.artists_load()"
   ]
  },
  {
   "cell_type": "code",
   "execution_count": null,
   "metadata": {},
   "outputs": [],
   "source": [
    "charts = Charts.chart_load()\n",
    "for chart in charts:\n",
    "    print(f'Name: {chart.artist.name}; ID: {chart.artist._id}')\n",
    "    artist = ArtistSongs.artist_load_songs(chart.artist)"
   ]
  },
  {
   "cell_type": "code",
   "execution_count": null,
   "metadata": {},
   "outputs": [],
   "source": [
    "import os\n",
    "import json\n",
    "\n",
    "dirs = os.listdir('artist_songs')\n",
    "for dir in dirs:\n",
    "    with open(f'artist_songs/{dir}') as file:\n",
    "        data = json.load(file)\n",
    "        datas = data['songs']\n",
    "        for song_data in datas:\n",
    "            id = song_data['id']\n",
    "\n",
    "            song = Songs.song(id)\n",
    "            song_json = song.to_json()\n",
    "            song_json = json.loads(song_json)\n",
    "            song_language = song_json['language']\n",
    "            if song_language == 'en':\n",
    "                lyric = Lyrics.load(id)\n",
    "                #print(lyric)\n",
    "                print(f'Added song {song.title} of {song.artist}')\n",
    "            else:\n",
    "                print(f'Song: {song.title} has {song_language} language') #Remove?\n",
    "\n",
    "            "
   ]
  },
  {
   "cell_type": "code",
   "execution_count": null,
   "metadata": {},
   "outputs": [],
   "source": []
  }
 ],
 "metadata": {
  "kernelspec": {
   "display_name": ".venv",
   "language": "python",
   "name": "python3"
  },
  "language_info": {
   "codemirror_mode": {
    "name": "ipython",
    "version": 3
   },
   "file_extension": ".py",
   "mimetype": "text/x-python",
   "name": "python",
   "nbconvert_exporter": "python",
   "pygments_lexer": "ipython3",
   "version": "3.9.6"
  }
 },
 "nbformat": 4,
 "nbformat_minor": 2
}
