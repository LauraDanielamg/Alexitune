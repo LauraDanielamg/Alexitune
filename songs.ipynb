{
 "cells": [
  {
   "cell_type": "code",
   "execution_count": null,
   "metadata": {},
   "outputs": [],
   "source": [
    "from pandas import DataFrame\n",
    "import json"
   ]
  },
  {
   "cell_type": "code",
   "execution_count": null,
   "metadata": {},
   "outputs": [],
   "source": [
    "from lyricsgenius import Genius\n",
    "token = 'utWUfzSpqx5D-0h6kdlftC_wWX9s2iPsMP5T5QP0phbGprepCLAjRBZP3cmnhZhB'\n",
    "genius = Genius(token, sleep_time=2)"
   ]
  },
  {
   "cell_type": "code",
   "execution_count": null,
   "metadata": {},
   "outputs": [],
   "source": [
    "from utils import ArtistSongs, Artists, Charts, Songs, Lyrics\n",
    "from utils.Charts import Chart, ChartList\n",
    "Artists.genius = genius\n",
    "ArtistSongs.genius = genius\n",
    "Charts.genius = genius\n",
    "Songs.genius = genius\n",
    "Lyrics.genius = genius"
   ]
  },
  {
   "cell_type": "code",
   "execution_count": null,
   "metadata": {},
   "outputs": [],
   "source": [
    "Charts.chart_download()\n",
    "ArtistSongs.load_from_charts()\n",
    "Lyrics.load_from_artist_songs()"
   ]
  },
  {
   "cell_type": "code",
   "execution_count": 5,
   "metadata": {},
   "outputs": [
    {
     "ename": "AttributeError",
     "evalue": "'dict' object has no attribute 'split'",
     "output_type": "error",
     "traceback": [
      "\u001b[0;31m---------------------------------------------------------------------------\u001b[0m",
      "\u001b[0;31mAttributeError\u001b[0m                            Traceback (most recent call last)",
      "Cell \u001b[0;32mIn[5], line 35\u001b[0m\n\u001b[1;32m     25\u001b[0m     \u001b[38;5;28;01mreturn\u001b[39;00m {\n\u001b[1;32m     26\u001b[0m         \u001b[38;5;124m'\u001b[39m\u001b[38;5;124mID\u001b[39m\u001b[38;5;124m'\u001b[39m: \u001b[38;5;28mid\u001b[39m(song),\n\u001b[1;32m     27\u001b[0m         \u001b[38;5;124m'\u001b[39m\u001b[38;5;124mName\u001b[39m\u001b[38;5;124m'\u001b[39m: name(song),\n\u001b[0;32m   (...)\u001b[0m\n\u001b[1;32m     31\u001b[0m         \u001b[38;5;124m'\u001b[39m\u001b[38;5;124mLyrics\u001b[39m\u001b[38;5;124m'\u001b[39m: lyrics(song)\n\u001b[1;32m     32\u001b[0m     }\n\u001b[1;32m     34\u001b[0m songs \u001b[38;5;241m=\u001b[39m Songs\u001b[38;5;241m.\u001b[39msongs()\n\u001b[0;32m---> 35\u001b[0m songs_dict \u001b[38;5;241m=\u001b[39m \u001b[38;5;28;43mlist\u001b[39;49m\u001b[43m(\u001b[49m\u001b[38;5;28;43mmap\u001b[39;49m\u001b[43m(\u001b[49m\u001b[43mmap_song\u001b[49m\u001b[43m,\u001b[49m\u001b[43m \u001b[49m\u001b[43msongs\u001b[49m\u001b[43m)\u001b[49m\u001b[43m)\u001b[49m\n\u001b[1;32m     37\u001b[0m df \u001b[38;5;241m=\u001b[39m DataFrame(songs_dict)\n\u001b[1;32m     38\u001b[0m df\u001b[38;5;241m.\u001b[39mto_csv(\u001b[38;5;124m'\u001b[39m\u001b[38;5;124msongs.csv\u001b[39m\u001b[38;5;124m'\u001b[39m)\n",
      "Cell \u001b[0;32mIn[5], line 31\u001b[0m, in \u001b[0;36mmap_song\u001b[0;34m(song)\u001b[0m\n\u001b[1;32m     24\u001b[0m \u001b[38;5;28;01mdef\u001b[39;00m \u001b[38;5;21mmap_song\u001b[39m(song) \u001b[38;5;241m-\u001b[39m\u001b[38;5;241m>\u001b[39m \u001b[38;5;28mdict\u001b[39m:\n\u001b[1;32m     25\u001b[0m     \u001b[38;5;28;01mreturn\u001b[39;00m {\n\u001b[1;32m     26\u001b[0m         \u001b[38;5;124m'\u001b[39m\u001b[38;5;124mID\u001b[39m\u001b[38;5;124m'\u001b[39m: \u001b[38;5;28mid\u001b[39m(song),\n\u001b[1;32m     27\u001b[0m         \u001b[38;5;124m'\u001b[39m\u001b[38;5;124mName\u001b[39m\u001b[38;5;124m'\u001b[39m: name(song),\n\u001b[1;32m     28\u001b[0m         \u001b[38;5;124m'\u001b[39m\u001b[38;5;124mArtist\u001b[39m\u001b[38;5;124m'\u001b[39m: artist(song),\n\u001b[1;32m     29\u001b[0m         \u001b[38;5;124m'\u001b[39m\u001b[38;5;124mArtist ID\u001b[39m\u001b[38;5;124m'\u001b[39m: artist_id(song),\n\u001b[1;32m     30\u001b[0m         \u001b[38;5;124m'\u001b[39m\u001b[38;5;124mLanguage\u001b[39m\u001b[38;5;124m'\u001b[39m: language(song),\n\u001b[0;32m---> 31\u001b[0m         \u001b[38;5;124m'\u001b[39m\u001b[38;5;124mLyrics\u001b[39m\u001b[38;5;124m'\u001b[39m: \u001b[43mlyrics\u001b[49m\u001b[43m(\u001b[49m\u001b[43msong\u001b[49m\u001b[43m)\u001b[49m\n\u001b[1;32m     32\u001b[0m     }\n",
      "Cell \u001b[0;32mIn[5], line 21\u001b[0m, in \u001b[0;36mlyrics\u001b[0;34m(song)\u001b[0m\n\u001b[1;32m     20\u001b[0m \u001b[38;5;28;01mdef\u001b[39;00m \u001b[38;5;21mlyrics\u001b[39m(song) \u001b[38;5;241m-\u001b[39m\u001b[38;5;241m>\u001b[39m \u001b[38;5;28mstr\u001b[39m:\n\u001b[0;32m---> 21\u001b[0m     lyrics \u001b[38;5;241m=\u001b[39m \u001b[43mLyrics\u001b[49m\u001b[38;5;241;43m.\u001b[39;49m\u001b[43mlyrics\u001b[49m\u001b[43m(\u001b[49m\u001b[43msong\u001b[49m\u001b[38;5;241;43m.\u001b[39;49m\u001b[43m_id\u001b[49m\u001b[43m)\u001b[49m\u001b[38;5;241;43m.\u001b[39;49m\u001b[43msplit\u001b[49m(\u001b[38;5;124m'\u001b[39m\u001b[38;5;130;01m\\n\u001b[39;00m\u001b[38;5;124m'\u001b[39m)[\u001b[38;5;241m1\u001b[39m:]\n\u001b[1;32m     22\u001b[0m     \u001b[38;5;28;01mreturn\u001b[39;00m \u001b[38;5;124m\"\u001b[39m\u001b[38;5;124m\"\u001b[39m\u001b[38;5;241m.\u001b[39mjoin(lyrics)\n",
      "\u001b[0;31mAttributeError\u001b[0m: 'dict' object has no attribute 'split'"
     ]
    }
   ],
   "source": [
    "def id(song) -> int:\n",
    "    return song._id\n",
    "\n",
    "def name(song) -> str:\n",
    "    return song.title\n",
    "\n",
    "def artist(song) -> str:\n",
    "    return song.artist\n",
    "\n",
    "def artist_id(song) -> int:\n",
    "    song_json = song.to_json()\n",
    "    song_json = json.loads(song_json)\n",
    "    return song_json.get('primary_artist', {}).get('id', None)\n",
    "\n",
    "def language(song) -> str:\n",
    "    song_json = song.to_json()\n",
    "    song_json = json.loads(song_json)\n",
    "    return song_json.get('language', None)\n",
    "\n",
    "def lyrics(song) -> str:\n",
    "    lyrics = Lyrics.lyrics(song._id)\n",
    "    print(lyrics)\n",
    "    lyrics = lyrics.split('\\n')[1:]\n",
    "    return \"\".join(lyrics)\n",
    "\n",
    "def map_song(song) -> dict:\n",
    "    return {\n",
    "        'ID': id(song),\n",
    "        'Name': name(song),\n",
    "        'Artist': artist(song),\n",
    "        'Artist ID': artist_id(song),\n",
    "        'Language': language(song),\n",
    "        'Lyrics': lyrics(song)\n",
    "    }\n",
    "\n",
    "songs = Songs.songs()\n",
    "songs_dict = list(map(map_song, songs))\n",
    "\n",
    "df = DataFrame(songs_dict)\n",
    "df.to_csv('songs.csv')"
   ]
  },
  {
   "cell_type": "code",
   "execution_count": null,
   "metadata": {},
   "outputs": [],
   "source": []
  }
 ],
 "metadata": {
  "kernelspec": {
   "display_name": ".venv",
   "language": "python",
   "name": "python3"
  },
  "language_info": {
   "codemirror_mode": {
    "name": "ipython",
    "version": 3
   },
   "file_extension": ".py",
   "mimetype": "text/x-python",
   "name": "python",
   "nbconvert_exporter": "python",
   "pygments_lexer": "ipython3",
   "version": "3.9.6"
  }
 },
 "nbformat": 4,
 "nbformat_minor": 2
}
