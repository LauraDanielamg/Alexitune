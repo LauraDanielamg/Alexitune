{
 "cells": [
  {
   "cell_type": "code",
   "execution_count": null,
   "metadata": {},
   "outputs": [],
   "source": [
    "from pandas import DataFrame, concat\n",
    "import json"
   ]
  },
  {
   "cell_type": "code",
   "execution_count": null,
   "metadata": {},
   "outputs": [],
   "source": [
    "from lyricsgenius import Genius\n",
    "token = 'utWUfzSpqx5D-0h6kdlftC_wWX9s2iPsMP5T5QP0phbGprepCLAjRBZP3cmnhZhB'\n",
    "genius = Genius(token, sleep_time=1)"
   ]
  },
  {
   "cell_type": "code",
   "execution_count": null,
   "metadata": {},
   "outputs": [],
   "source": [
    "from utils import ArtistSongs, Artists, Charts, Songs, Lyrics, LyricSentiment\n",
    "Artists.genius = genius\n",
    "ArtistSongs.genius = genius\n",
    "Charts.genius = genius\n",
    "Songs.genius = genius\n",
    "Lyrics.genius = genius"
   ]
  },
  {
   "cell_type": "code",
   "execution_count": null,
   "metadata": {},
   "outputs": [],
   "source": [
    "Charts.chart_download()\n",
    "ArtistSongs.load_from_charts()\n",
    "Lyrics.load_from_artist_songs()"
   ]
  },
  {
   "cell_type": "code",
   "execution_count": null,
   "metadata": {},
   "outputs": [],
   "source": [
    "def id(song) -> int:\n",
    "    return song._id\n",
    "\n",
    "def name(song) -> str:\n",
    "    return song.title\n",
    "\n",
    "def artist(song) -> str:\n",
    "    return song.artist\n",
    "\n",
    "def artist_id(song) -> int:\n",
    "    song_json = song.to_json()\n",
    "    song_json = json.loads(song_json)\n",
    "    return song_json.get('primary_artist', {}).get('id', None)\n",
    "\n",
    "def language(song) -> str:\n",
    "    song_json = song.to_json()\n",
    "    song_json = json.loads(song_json)\n",
    "    return song_json.get('language', None)\n",
    "\n",
    "def lyrics(song) -> str:\n",
    "    lyrics = Lyrics.lyrics(song._id)\n",
    "    lyrics = lyrics.split('\\n')[1:]\n",
    "    return \" \".join(lyrics)\n",
    "\n",
    "def image(song) -> str:\n",
    "    song_json = song.to_json()\n",
    "    song_json = json.loads(song_json)\n",
    "    return song_json.get('song_art_image_url', None)\n",
    "\n",
    "def url(song) -> str:\n",
    "    song_json = song.to_json()\n",
    "    song_json = json.loads(song_json)\n",
    "    return song_json.get('url', None)\n",
    "\n",
    "def map_song(song) -> dict:\n",
    "    return {\n",
    "        'ID': id(song),\n",
    "        'Name': name(song),\n",
    "        'Artist': artist(song),\n",
    "        'Artist ID': artist_id(song),\n",
    "        'Language': language(song),\n",
    "        'Lyrics': lyrics(song),\n",
    "        'Image': image(song),\n",
    "        'URL': url(song)\n",
    "    }\n",
    "\n",
    "\n",
    "songs = Songs.songs()\n",
    "songs_dict = list(map(map_song, songs))\n",
    "songs_df = DataFrame(songs_dict)\n",
    "songs_df.to_csv('songs.csv')"
   ]
  },
  {
   "cell_type": "code",
   "execution_count": null,
   "metadata": {},
   "outputs": [],
   "source": [
    "lyrics = songs_df['Lyrics']\n",
    "sentiments = lyrics.apply(LyricSentiment.sentiments).to_list()\n",
    "sentiments_df = DataFrame(sentiments)\n",
    "final_df = concat([songs_df['ID'], sentiments_df], axis=1)\n",
    "final_df.to_csv('sentiments.csv')"
   ]
  }
 ],
 "metadata": {
  "kernelspec": {
   "display_name": ".venv",
   "language": "python",
   "name": "python3"
  },
  "language_info": {
   "codemirror_mode": {
    "name": "ipython",
    "version": 3
   },
   "file_extension": ".py",
   "mimetype": "text/x-python",
   "name": "python",
   "nbconvert_exporter": "python",
   "pygments_lexer": "ipython3",
   "version": "3.9.6"
  }
 },
 "nbformat": 4,
 "nbformat_minor": 2
}
