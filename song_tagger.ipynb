{
 "cells": [
  {
   "cell_type": "code",
   "execution_count": 1,
   "metadata": {},
   "outputs": [],
   "source": [
    "from transformers import AutoTokenizer, AutoModelForSequenceClassification, pipeline"
   ]
  },
  {
   "cell_type": "code",
   "execution_count": 2,
   "metadata": {},
   "outputs": [
    {
     "data": {
      "application/vnd.jupyter.widget-view+json": {
       "model_id": "d2a5ca20d0a84d7bbef189af085c2a4b",
       "version_major": 2,
       "version_minor": 0
      },
      "text/plain": [
       "config.json:   0%|          | 0.00/1.92k [00:00<?, ?B/s]"
      ]
     },
     "metadata": {},
     "output_type": "display_data"
    },
    {
     "name": "stderr",
     "output_type": "stream",
     "text": [
      "c:\\Users\\Lau_d\\Documents\\Laura\\UMA\\Song_recommender\\ml_env\\lib\\site-packages\\huggingface_hub\\file_download.py:149: UserWarning: `huggingface_hub` cache-system uses symlinks by default to efficiently store duplicated files but your machine does not support them in C:\\Users\\Lau_d\\.cache\\huggingface\\hub\\models--SamLowe--roberta-base-go_emotions. Caching files will still work but in a degraded version that might require more space on your disk. This warning can be disabled by setting the `HF_HUB_DISABLE_SYMLINKS_WARNING` environment variable. For more details, see https://huggingface.co/docs/huggingface_hub/how-to-cache#limitations.\n",
      "To support symlinks on Windows, you either need to activate Developer Mode or to run Python as an administrator. In order to see activate developer mode, see this article: https://docs.microsoft.com/en-us/windows/apps/get-started/enable-your-device-for-development\n",
      "  warnings.warn(message)\n"
     ]
    },
    {
     "data": {
      "application/vnd.jupyter.widget-view+json": {
       "model_id": "3e7d1d003cb64d4eaf33995d2b35a11b",
       "version_major": 2,
       "version_minor": 0
      },
      "text/plain": [
       "model.safetensors:   0%|          | 0.00/499M [00:00<?, ?B/s]"
      ]
     },
     "metadata": {},
     "output_type": "display_data"
    }
   ],
   "source": [
    "tokenizer = AutoTokenizer.from_pretrained(\"SamLowe/roberta-base-go_emotions\")\n",
    "model = AutoModelForSequenceClassification.from_pretrained(\"SamLowe/roberta-base-go_emotions\")"
   ]
  },
  {
   "cell_type": "code",
   "execution_count": 3,
   "metadata": {},
   "outputs": [],
   "source": [
    "classifier = pipeline('text-classification', model=model, tokenizer=tokenizer)"
   ]
  },
  {
   "cell_type": "code",
   "execution_count": 5,
   "metadata": {},
   "outputs": [],
   "source": [
    "import pandas as pd"
   ]
  },
  {
   "cell_type": "code",
   "execution_count": 20,
   "metadata": {},
   "outputs": [],
   "source": [
    "df = pd.read_csv('dataset\\info_songs.csv').head(10)\n",
    "\n",
    "lyrics = df['lyrics'].tolist()"
   ]
  },
  {
   "cell_type": "code",
   "execution_count": 21,
   "metadata": {},
   "outputs": [],
   "source": [
    "df['predicted_label'] = ''\n",
    "df['predicted_score'] =  0.0"
   ]
  },
  {
   "cell_type": "code",
   "execution_count": 22,
   "metadata": {},
   "outputs": [
    {
     "name": "stdout",
     "output_type": "stream",
     "text": [
      "                              title artist  \\\n",
      "0                             Hello  Adele   \n",
      "1                        Easy On Me  Adele   \n",
      "2                  Someone Like You  Adele   \n",
      "3               Rolling in the Deep  Adele   \n",
      "4                When We Were Young  Adele   \n",
      "5              Set Fire to the Rain  Adele   \n",
      "6                         All I Ask  Adele   \n",
      "7  Send My Love (To Your New Lover)  Adele   \n",
      "8                       To Be Loved  Adele   \n",
      "9            Water Under the Bridge  Adele   \n",
      "\n",
      "                                                 url       release_date  \\\n",
      "0              https://genius.com/Adele-hello-lyrics   October 23, 2015   \n",
      "1         https://genius.com/Adele-easy-on-me-lyrics   October 15, 2021   \n",
      "2   https://genius.com/Adele-someone-like-you-lyrics   January 24, 2011   \n",
      "3  https://genius.com/Adele-rolling-in-the-deep-l...  November 29, 2010   \n",
      "4  https://genius.com/Adele-when-we-were-young-ly...  November 20, 2015   \n",
      "5  https://genius.com/Adele-set-fire-to-the-rain-...   January 24, 2011   \n",
      "6          https://genius.com/Adele-all-i-ask-lyrics  November 20, 2015   \n",
      "7  https://genius.com/Adele-send-my-love-to-your-...  November 20, 2015   \n",
      "8        https://genius.com/Adele-to-be-loved-lyrics  November 19, 2021   \n",
      "9  https://genius.com/Adele-water-under-the-bridg...  November 20, 2015   \n",
      "\n",
      "   pyongs_count  pageviews                                             lyrics  \\\n",
      "0         260.0  5451117.0  Hello, it's meI was wondering if, after all th...   \n",
      "1         156.0  2793095.0  There ain't no gold in this riverThat I've bee...   \n",
      "2         223.0  2018165.0  I heard that you're settled downThat you found...   \n",
      "3         154.0  1429613.0  There's a fire starting in my heartReaching a ...   \n",
      "4          94.0  1249923.0  Everybody loves the things you doFrom the way ...   \n",
      "5         106.0  1589869.0  I let it fall, my heartAnd as it fell, you ros...   \n",
      "6          44.0  1128791.0  I will leave my heart at the doorI won't say a...   \n",
      "7          60.0   729484.0  Just the guitarOkay, coolThis was all you, non...   \n",
      "8          23.0   713001.0  I built a house for a love to growI was so you...   \n",
      "9          39.0   558828.0  If you're not the one for meThen how come I ca...   \n",
      "\n",
      "  predicted_label  predicted_score  \n",
      "0         remorse         0.620506  \n",
      "1  disappointment         0.399111  \n",
      "2            love         0.260023  \n",
      "3            love         0.601566  \n",
      "4            fear         0.440089  \n",
      "5         neutral         0.701469  \n",
      "6         neutral         0.294934  \n",
      "7            love         0.651493  \n",
      "8         sadness         0.467880  \n",
      "9       annoyance         0.273852  \n"
     ]
    }
   ],
   "source": [
    "for idx, lyric in enumerate(lyrics):\n",
    "    result = classifier(lyric)[0]  \n",
    "    df.at[idx, 'predicted_label'] = result['label']\n",
    "    df.at[idx, 'predicted_score'] = result['score']\n",
    "\n",
    "print(df)\n"
   ]
  },
  {
   "cell_type": "code",
   "execution_count": 23,
   "metadata": {},
   "outputs": [
    {
     "data": {
      "text/html": [
       "<div>\n",
       "<style scoped>\n",
       "    .dataframe tbody tr th:only-of-type {\n",
       "        vertical-align: middle;\n",
       "    }\n",
       "\n",
       "    .dataframe tbody tr th {\n",
       "        vertical-align: top;\n",
       "    }\n",
       "\n",
       "    .dataframe thead th {\n",
       "        text-align: right;\n",
       "    }\n",
       "</style>\n",
       "<table border=\"1\" class=\"dataframe\">\n",
       "  <thead>\n",
       "    <tr style=\"text-align: right;\">\n",
       "      <th></th>\n",
       "      <th>title</th>\n",
       "      <th>artist</th>\n",
       "      <th>url</th>\n",
       "      <th>release_date</th>\n",
       "      <th>pyongs_count</th>\n",
       "      <th>pageviews</th>\n",
       "      <th>lyrics</th>\n",
       "      <th>predicted_label</th>\n",
       "      <th>predicted_score</th>\n",
       "    </tr>\n",
       "  </thead>\n",
       "  <tbody>\n",
       "    <tr>\n",
       "      <th>0</th>\n",
       "      <td>Hello</td>\n",
       "      <td>Adele</td>\n",
       "      <td>https://genius.com/Adele-hello-lyrics</td>\n",
       "      <td>October 23, 2015</td>\n",
       "      <td>260.0</td>\n",
       "      <td>5451117.0</td>\n",
       "      <td>Hello, it's meI was wondering if, after all th...</td>\n",
       "      <td>remorse</td>\n",
       "      <td>0.620506</td>\n",
       "    </tr>\n",
       "    <tr>\n",
       "      <th>1</th>\n",
       "      <td>Easy On Me</td>\n",
       "      <td>Adele</td>\n",
       "      <td>https://genius.com/Adele-easy-on-me-lyrics</td>\n",
       "      <td>October 15, 2021</td>\n",
       "      <td>156.0</td>\n",
       "      <td>2793095.0</td>\n",
       "      <td>There ain't no gold in this riverThat I've bee...</td>\n",
       "      <td>disappointment</td>\n",
       "      <td>0.399111</td>\n",
       "    </tr>\n",
       "    <tr>\n",
       "      <th>2</th>\n",
       "      <td>Someone Like You</td>\n",
       "      <td>Adele</td>\n",
       "      <td>https://genius.com/Adele-someone-like-you-lyrics</td>\n",
       "      <td>January 24, 2011</td>\n",
       "      <td>223.0</td>\n",
       "      <td>2018165.0</td>\n",
       "      <td>I heard that you're settled downThat you found...</td>\n",
       "      <td>love</td>\n",
       "      <td>0.260023</td>\n",
       "    </tr>\n",
       "    <tr>\n",
       "      <th>3</th>\n",
       "      <td>Rolling in the Deep</td>\n",
       "      <td>Adele</td>\n",
       "      <td>https://genius.com/Adele-rolling-in-the-deep-l...</td>\n",
       "      <td>November 29, 2010</td>\n",
       "      <td>154.0</td>\n",
       "      <td>1429613.0</td>\n",
       "      <td>There's a fire starting in my heartReaching a ...</td>\n",
       "      <td>love</td>\n",
       "      <td>0.601566</td>\n",
       "    </tr>\n",
       "    <tr>\n",
       "      <th>4</th>\n",
       "      <td>When We Were Young</td>\n",
       "      <td>Adele</td>\n",
       "      <td>https://genius.com/Adele-when-we-were-young-ly...</td>\n",
       "      <td>November 20, 2015</td>\n",
       "      <td>94.0</td>\n",
       "      <td>1249923.0</td>\n",
       "      <td>Everybody loves the things you doFrom the way ...</td>\n",
       "      <td>fear</td>\n",
       "      <td>0.440089</td>\n",
       "    </tr>\n",
       "  </tbody>\n",
       "</table>\n",
       "</div>"
      ],
      "text/plain": [
       "                 title artist  \\\n",
       "0                Hello  Adele   \n",
       "1           Easy On Me  Adele   \n",
       "2     Someone Like You  Adele   \n",
       "3  Rolling in the Deep  Adele   \n",
       "4   When We Were Young  Adele   \n",
       "\n",
       "                                                 url       release_date  \\\n",
       "0              https://genius.com/Adele-hello-lyrics   October 23, 2015   \n",
       "1         https://genius.com/Adele-easy-on-me-lyrics   October 15, 2021   \n",
       "2   https://genius.com/Adele-someone-like-you-lyrics   January 24, 2011   \n",
       "3  https://genius.com/Adele-rolling-in-the-deep-l...  November 29, 2010   \n",
       "4  https://genius.com/Adele-when-we-were-young-ly...  November 20, 2015   \n",
       "\n",
       "   pyongs_count  pageviews                                             lyrics  \\\n",
       "0         260.0  5451117.0  Hello, it's meI was wondering if, after all th...   \n",
       "1         156.0  2793095.0  There ain't no gold in this riverThat I've bee...   \n",
       "2         223.0  2018165.0  I heard that you're settled downThat you found...   \n",
       "3         154.0  1429613.0  There's a fire starting in my heartReaching a ...   \n",
       "4          94.0  1249923.0  Everybody loves the things you doFrom the way ...   \n",
       "\n",
       "  predicted_label  predicted_score  \n",
       "0         remorse         0.620506  \n",
       "1  disappointment         0.399111  \n",
       "2            love         0.260023  \n",
       "3            love         0.601566  \n",
       "4            fear         0.440089  "
      ]
     },
     "execution_count": 23,
     "metadata": {},
     "output_type": "execute_result"
    }
   ],
   "source": [
    "df.head()"
   ]
  },
  {
   "cell_type": "code",
   "execution_count": 17,
   "metadata": {},
   "outputs": [
    {
     "ename": "TypeError",
     "evalue": "string indices must be integers",
     "output_type": "error",
     "traceback": [
      "\u001b[1;31m---------------------------------------------------------------------------\u001b[0m",
      "\u001b[1;31mTypeError\u001b[0m                                 Traceback (most recent call last)",
      "Cell \u001b[1;32mIn[17], line 2\u001b[0m\n\u001b[0;32m      1\u001b[0m \u001b[38;5;28;01mfor\u001b[39;00m i, result \u001b[38;5;129;01min\u001b[39;00m \u001b[38;5;28menumerate\u001b[39m(results):\n\u001b[1;32m----> 2\u001b[0m     \u001b[38;5;28;01mfor\u001b[39;00m label, score \u001b[38;5;129;01min\u001b[39;00m \u001b[38;5;28mzip\u001b[39m([r[\u001b[38;5;124m'\u001b[39m\u001b[38;5;124mlabel\u001b[39m\u001b[38;5;124m'\u001b[39m] \u001b[38;5;28;01mfor\u001b[39;00m r \u001b[38;5;129;01min\u001b[39;00m result], [r[\u001b[38;5;124m'\u001b[39m\u001b[38;5;124mscore\u001b[39m\u001b[38;5;124m'\u001b[39m] \u001b[38;5;28;01mfor\u001b[39;00m r \u001b[38;5;129;01min\u001b[39;00m result]):\n\u001b[0;32m      3\u001b[0m         df\u001b[38;5;241m.\u001b[39mloc[i, \u001b[38;5;124mf\u001b[39m\u001b[38;5;124m'\u001b[39m\u001b[38;5;124memotion_\u001b[39m\u001b[38;5;132;01m{\u001b[39;00mlabel\u001b[38;5;132;01m}\u001b[39;00m\u001b[38;5;124m'\u001b[39m] \u001b[38;5;241m=\u001b[39m score\n\u001b[0;32m      5\u001b[0m df\u001b[38;5;241m.\u001b[39mto_csv(\u001b[38;5;124m'\u001b[39m\u001b[38;5;124mdataset/info_songs_with_emotions.csv\u001b[39m\u001b[38;5;124m'\u001b[39m, index\u001b[38;5;241m=\u001b[39m\u001b[38;5;28;01mFalse\u001b[39;00m)\n",
      "Cell \u001b[1;32mIn[17], line 2\u001b[0m, in \u001b[0;36m<listcomp>\u001b[1;34m(.0)\u001b[0m\n\u001b[0;32m      1\u001b[0m \u001b[38;5;28;01mfor\u001b[39;00m i, result \u001b[38;5;129;01min\u001b[39;00m \u001b[38;5;28menumerate\u001b[39m(results):\n\u001b[1;32m----> 2\u001b[0m     \u001b[38;5;28;01mfor\u001b[39;00m label, score \u001b[38;5;129;01min\u001b[39;00m \u001b[38;5;28mzip\u001b[39m([r[\u001b[38;5;124m'\u001b[39m\u001b[38;5;124mlabel\u001b[39m\u001b[38;5;124m'\u001b[39m] \u001b[38;5;28;01mfor\u001b[39;00m r \u001b[38;5;129;01min\u001b[39;00m result], [r[\u001b[38;5;124m'\u001b[39m\u001b[38;5;124mscore\u001b[39m\u001b[38;5;124m'\u001b[39m] \u001b[38;5;28;01mfor\u001b[39;00m r \u001b[38;5;129;01min\u001b[39;00m result]):\n\u001b[0;32m      3\u001b[0m         df\u001b[38;5;241m.\u001b[39mloc[i, \u001b[38;5;124mf\u001b[39m\u001b[38;5;124m'\u001b[39m\u001b[38;5;124memotion_\u001b[39m\u001b[38;5;132;01m{\u001b[39;00mlabel\u001b[38;5;132;01m}\u001b[39;00m\u001b[38;5;124m'\u001b[39m] \u001b[38;5;241m=\u001b[39m score\n\u001b[0;32m      5\u001b[0m df\u001b[38;5;241m.\u001b[39mto_csv(\u001b[38;5;124m'\u001b[39m\u001b[38;5;124mdataset/info_songs_with_emotions.csv\u001b[39m\u001b[38;5;124m'\u001b[39m, index\u001b[38;5;241m=\u001b[39m\u001b[38;5;28;01mFalse\u001b[39;00m)\n",
      "\u001b[1;31mTypeError\u001b[0m: string indices must be integers"
     ]
    }
   ],
   "source": [
    "for i, result in enumerate(results):\n",
    "    for label, score in zip([r['label'] for r in result], [r['score'] for r in result]):\n",
    "        df.loc[i, f'emotion_{label}'] = score\n",
    "\n",
    "df.to_csv('dataset/info_songs_with_emotions.csv', index=False)"
   ]
  }
 ],
 "metadata": {
  "kernelspec": {
   "display_name": "Python 3",
   "language": "python",
   "name": "python3"
  },
  "language_info": {
   "codemirror_mode": {
    "name": "ipython",
    "version": 3
   },
   "file_extension": ".py",
   "mimetype": "text/x-python",
   "name": "python",
   "nbconvert_exporter": "python",
   "pygments_lexer": "ipython3",
   "version": "3.8.18"
  }
 },
 "nbformat": 4,
 "nbformat_minor": 2
}
