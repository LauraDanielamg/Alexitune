{
 "cells": [
  {
   "cell_type": "code",
   "execution_count": 59,
   "metadata": {},
   "outputs": [
    {
     "name": "stdout",
     "output_type": "stream",
     "text": [
      "Requirement already satisfied: pandas in c:\\users\\ana\\documents\\alexitune\\venv\\lib\\site-packages (2.2.0)\n",
      "Requirement already satisfied: numpy<2,>=1.26.0 in c:\\users\\ana\\documents\\alexitune\\venv\\lib\\site-packages (from pandas) (1.26.4)\n",
      "Requirement already satisfied: python-dateutil>=2.8.2 in c:\\users\\ana\\documents\\alexitune\\venv\\lib\\site-packages (from pandas) (2.8.2)\n",
      "Requirement already satisfied: pytz>=2020.1 in c:\\users\\ana\\documents\\alexitune\\venv\\lib\\site-packages (from pandas) (2024.1)\n",
      "Requirement already satisfied: tzdata>=2022.7 in c:\\users\\ana\\documents\\alexitune\\venv\\lib\\site-packages (from pandas) (2023.4)\n",
      "Requirement already satisfied: six>=1.5 in c:\\users\\ana\\documents\\alexitune\\venv\\lib\\site-packages (from python-dateutil>=2.8.2->pandas) (1.16.0)\n",
      "Note: you may need to restart the kernel to use updated packages.\n"
     ]
    }
   ],
   "source": [
    "pip install pandas"
   ]
  },
  {
   "cell_type": "code",
   "execution_count": 60,
   "metadata": {},
   "outputs": [],
   "source": [
    "import pandas as pd\n",
    "\n",
    "#Ignorar Advertencias: Se manejan las advertencias de deprecación para mantener un entorno limpio y sin interrupciones.\n",
    "import warnings \n",
    "def fxn():\n",
    "    warnings.warn(\"deprecated\", DeprecationWarning)\n",
    "with warnings.catch_warnings(action=\"ignore\"):\n",
    "    fxn()"
   ]
  },
  {
   "cell_type": "code",
   "execution_count": 61,
   "metadata": {},
   "outputs": [
    {
     "data": {
      "text/plain": [
       "(6014, 7)"
      ]
     },
     "execution_count": 61,
     "metadata": {},
     "output_type": "execute_result"
    }
   ],
   "source": [
    "df = pd.read_csv(\"./datasets/raw_songs.csv\")\n",
    "\n",
    "df.shape"
   ]
  },
  {
   "cell_type": "code",
   "execution_count": 62,
   "metadata": {},
   "outputs": [
    {
     "data": {
      "text/plain": [
       "array(['romanization', 'en', 'fr', 'de', 'es', 'ru', 'la', 'ak', nan,\n",
       "       'sco', 'da', 'mk', 'sr', 'pt', 'no', 'nl', 'bug', 'be', 'ko', 'bg',\n",
       "       'ml', 'cs', 'eu', 'ar', 'ne', 'tl'], dtype=object)"
      ]
     },
     "execution_count": 62,
     "metadata": {},
     "output_type": "execute_result"
    }
   ],
   "source": [
    "df['Language'].unique()"
   ]
  },
  {
   "cell_type": "code",
   "execution_count": 63,
   "metadata": {},
   "outputs": [
    {
     "data": {
      "text/plain": [
       "814"
      ]
     },
     "execution_count": 63,
     "metadata": {},
     "output_type": "execute_result"
    }
   ],
   "source": [
    "df['Artist'].nunique()"
   ]
  },
  {
   "cell_type": "code",
   "execution_count": 64,
   "metadata": {},
   "outputs": [
    {
     "data": {
      "text/plain": [
       "(5276, 7)"
      ]
     },
     "execution_count": 64,
     "metadata": {},
     "output_type": "execute_result"
    }
   ],
   "source": [
    "filtered_df = df.loc[df['Language'].isin(['en'])]\n",
    "\n",
    "filtered_df.shape"
   ]
  },
  {
   "cell_type": "code",
   "execution_count": 65,
   "metadata": {},
   "outputs": [
    {
     "data": {
      "text/plain": [
       "array(['en'], dtype=object)"
      ]
     },
     "execution_count": 65,
     "metadata": {},
     "output_type": "execute_result"
    }
   ],
   "source": [
    "filtered_df['Language'].unique()"
   ]
  },
  {
   "cell_type": "code",
   "execution_count": 66,
   "metadata": {},
   "outputs": [
    {
     "data": {
      "text/plain": [
       "715"
      ]
     },
     "execution_count": 66,
     "metadata": {},
     "output_type": "execute_result"
    }
   ],
   "source": [
    "filtered_df['Artist'].nunique()"
   ]
  },
  {
   "cell_type": "code",
   "execution_count": 67,
   "metadata": {},
   "outputs": [
    {
     "data": {
      "text/plain": [
       "True"
      ]
     },
     "execution_count": 67,
     "metadata": {},
     "output_type": "execute_result"
    }
   ],
   "source": [
    "filtered_df['Lyrics'].isna().any()\n"
   ]
  },
  {
   "cell_type": "code",
   "execution_count": 68,
   "metadata": {},
   "outputs": [
    {
     "data": {
      "text/plain": [
       "131"
      ]
     },
     "execution_count": 68,
     "metadata": {},
     "output_type": "execute_result"
    }
   ],
   "source": [
    "filtered_df['Lyrics'].isna().sum()"
   ]
  },
  {
   "cell_type": "code",
   "execution_count": 69,
   "metadata": {},
   "outputs": [],
   "source": [
    "df_with_lyrics = filtered_df.loc[~filtered_df['Lyrics'].isna()]"
   ]
  },
  {
   "cell_type": "code",
   "execution_count": 70,
   "metadata": {},
   "outputs": [
    {
     "data": {
      "text/plain": [
       "(5145, 7)"
      ]
     },
     "execution_count": 70,
     "metadata": {},
     "output_type": "execute_result"
    }
   ],
   "source": [
    "df_with_lyrics.shape"
   ]
  },
  {
   "cell_type": "code",
   "execution_count": 71,
   "metadata": {},
   "outputs": [
    {
     "data": {
      "text/plain": [
       "701"
      ]
     },
     "execution_count": 71,
     "metadata": {},
     "output_type": "execute_result"
    }
   ],
   "source": [
    "df_with_lyrics['Artist'].nunique()"
   ]
  },
  {
   "cell_type": "code",
   "execution_count": 72,
   "metadata": {},
   "outputs": [
    {
     "name": "stdout",
     "output_type": "stream",
     "text": [
      "1     Yup, yeah yeahOh, hahahahaYup yup yup yup yup ...\n",
      "2     12Hunna on the beatFor my squad, I go hardI lo...\n",
      "3     I'm gettin' high as fuck in this, trippy nigga...\n",
      "4     You be anything you wantJust keep going, going...\n",
      "5     One, two, three, fourWaking up dead, inside of...\n",
      "7     I'm feeling like a man of the hour, tear down ...\n",
      "8     I'm tryin' to go to churchGet some chicken win...\n",
      "10    Let me put you on gameLet me put you on gameDo...\n",
      "11    YeahYeah\"The Cool\"Turn me up, uh-huh, yeahHe c...\n",
      "12    I was so high I did not recognizeThe fire burn...\n",
      "13    Hit that, hit that snareI'm in the business of...\n",
      "14    Tonight, tonight, tonightThe stars are aligned...\n",
      "15    R.I.P we just killed the clubTook Patrón to th...\n",
      "16    Young Chop on the beatAyy, ayy, ayy, ayy, ayyB...\n",
      "17    UhI thought I'd probably die in prison, expens...\n",
      "18    K.E On The TrackMe and my niggas we ballin'We ...\n",
      "19    Mike WiLL Made itYahHuh, huh, yah, huh, yahBan...\n",
      "20    Beep, beepGBE the squad (GBE, baby)It's just u...\n",
      "21    I walked through the door with you, the air wa...\n",
      "25    I know, I know but I gotta get up outta here, ...\n",
      "Name: Lyrics, dtype: object\n"
     ]
    }
   ],
   "source": [
    "print(df_with_lyrics['Lyrics'].head(20))"
   ]
  },
  {
   "cell_type": "markdown",
   "metadata": {},
   "source": [
    "Mostrar las primeras filas de la columna 'Lyrics'"
   ]
  },
  {
   "cell_type": "markdown",
   "metadata": {},
   "source": [
    "Tenemos las letras, vamos a proceder a:\n",
    "* Eliminar caracteres no deseados\n",
    "* Dejar solo palabras en Ingles\n",
    "* Pasar palabras contraidas a dos palabras\n",
    "* Revisar palabras unidas o saltos de lineas"
   ]
  },
  {
   "cell_type": "code",
   "execution_count": 77,
   "metadata": {},
   "outputs": [
    {
     "name": "stdout",
     "output_type": "stream",
     "text": [
      "Requirement already satisfied: pip in c:\\users\\ana\\documents\\alexitune\\venv\\lib\\site-packages (24.0)\n",
      "Note: you may need to restart the kernel to use updated packages.\n"
     ]
    }
   ],
   "source": [
    "pip install --upgrade pip"
   ]
  },
  {
   "cell_type": "code",
   "execution_count": 78,
   "metadata": {},
   "outputs": [
    {
     "name": "stdout",
     "output_type": "stream",
     "text": [
      "Requirement already satisfied: setuptools in c:\\users\\ana\\documents\\alexitune\\venv\\lib\\site-packages (69.0.3)Note: you may need to restart the kernel to use updated packages.\n",
      "\n"
     ]
    }
   ],
   "source": [
    "pip install --upgrade setuptools"
   ]
  },
  {
   "cell_type": "code",
   "execution_count": 79,
   "metadata": {},
   "outputs": [
    {
     "name": "stdout",
     "output_type": "stream",
     "text": [
      "Collecting contractions\n",
      "  Using cached contractions-0.1.73-py2.py3-none-any.whl (8.7 kB)\n",
      "Collecting textsearch>=0.0.21 (from contractions)\n",
      "  Using cached textsearch-0.0.24-py2.py3-none-any.whl (7.6 kB)\n",
      "Collecting anyascii (from textsearch>=0.0.21->contractions)\n",
      "  Using cached anyascii-0.3.2-py3-none-any.whl (289 kB)\n",
      "Collecting pyahocorasick (from textsearch>=0.0.21->contractions)\n",
      "  Using cached pyahocorasick-2.0.0.tar.gz (99 kB)\n",
      "  Installing build dependencies: started\n",
      "  Installing build dependencies: finished with status 'done'\n",
      "  Getting requirements to build wheel: started\n",
      "  Getting requirements to build wheel: finished with status 'done'\n",
      "  Installing backend dependencies: started\n",
      "  Installing backend dependencies: finished with status 'done'\n",
      "  Preparing metadata (pyproject.toml): started\n",
      "  Preparing metadata (pyproject.toml): finished with status 'done'\n",
      "Building wheels for collected packages: pyahocorasick\n",
      "  Building wheel for pyahocorasick (pyproject.toml): started\n",
      "  Building wheel for pyahocorasick (pyproject.toml): finished with status 'error'\n",
      "Failed to build pyahocorasick\n",
      "Note: you may need to restart the kernel to use updated packages.\n"
     ]
    },
    {
     "name": "stderr",
     "output_type": "stream",
     "text": [
      "  error: subprocess-exited-with-error\n",
      "  \n",
      "  × Building wheel for pyahocorasick (pyproject.toml) did not run successfully.\n",
      "  │ exit code: 1\n",
      "  ╰─> [5 lines of output]\n",
      "      running bdist_wheel\n",
      "      running build\n",
      "      running build_ext\n",
      "      building 'ahocorasick' extension\n",
      "      error: Microsoft Visual C++ 14.0 or greater is required. Get it with \"Microsoft C++ Build Tools\": https://visualstudio.microsoft.com/visual-cpp-build-tools/\n",
      "      [end of output]\n",
      "  \n",
      "  note: This error originates from a subprocess, and is likely not a problem with pip.\n",
      "  ERROR: Failed building wheel for pyahocorasick\n",
      "ERROR: Could not build wheels for pyahocorasick, which is required to install pyproject.toml-based projects\n"
     ]
    }
   ],
   "source": [
    "pip install contractions"
   ]
  },
  {
   "cell_type": "code",
   "execution_count": 85,
   "metadata": {},
   "outputs": [
    {
     "name": "stdout",
     "output_type": "stream",
     "text": [
      "1    Yup, yeah yeah Oh, hahahaha Yup yup yup yup yu...\n",
      "2    12Hunna on the beat For my squad, I go hard I ...\n",
      "3    I am gettin high  as fuck in this, trippy nigg...\n",
      "4    You be anything you want Just keep going, goin...\n",
      "5    One, two, three, four Waking up dead, inside o...\n",
      "Name: Lyrics, dtype: object\n"
     ]
    }
   ],
   "source": [
    "import re\n",
    "\n",
    "contractions_dict = {\n",
    "    \"ain't\": \"am not \",\n",
    "    \"aren't\": \"are not \",\n",
    "    \"can't\": \"cannot \",\n",
    "    \"could've\": \"could have \",\n",
    "    \"I'm \": \"I am \",\n",
    "    \"gettin' high\" : \"gettin high \",\n",
    "    # ... Agrega más contracciones según sea necesario\n",
    "}\n",
    "\n",
    "def expand_contractions(text):\n",
    "    for contraction, expansion in contractions_dict.items():\n",
    "        text = re.sub(r'\\b' + re.escape(contraction) + r'\\b', expansion, text)\n",
    "    return text\n",
    "\n",
    "def separate_words(text):\n",
    "    # Utilizamos una expresión regular para encontrar transiciones de minúsculas a mayúsculas\n",
    "    words_separated = re.sub(r'([a-z])([A-Z])', r'\\1 \\2', text)\n",
    "    \n",
    "    # Expandir contracciones\n",
    "    words_separated = expand_contractions(words_separated)\n",
    "    \n",
    "    return words_separated\n",
    "\n",
    "# Hacer una copia del DataFrame para evitar SettingWithCopyWarning\n",
    "df_with_lyrics_copy = df_with_lyrics.copy()\n",
    "\n",
    "# Aplicar la función a la columna 'Lyrics' en la copia del DataFrame\n",
    "df_with_lyrics_copy['Lyrics'] = df_with_lyrics_copy['Lyrics'].apply(separate_words)\n",
    "\n",
    "# Mostrar las primeras filas de la columna 'Lyrics' después de separar las palabras con espacios y expandir contracciones\n",
    "print(df_with_lyrics_copy['Lyrics'].head())"
   ]
  }
 ],
 "metadata": {
  "kernelspec": {
   "display_name": "venv",
   "language": "python",
   "name": "python3"
  },
  "language_info": {
   "codemirror_mode": {
    "name": "ipython",
    "version": 3
   },
   "file_extension": ".py",
   "mimetype": "text/x-python",
   "name": "python",
   "nbconvert_exporter": "python",
   "pygments_lexer": "ipython3",
   "version": "3.12.2"
  }
 },
 "nbformat": 4,
 "nbformat_minor": 2
}
