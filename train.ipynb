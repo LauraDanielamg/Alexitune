{
 "cells": [
  {
   "cell_type": "markdown",
   "metadata": {},
   "source": [
    "# Notebook para el re-entrenamiento de RoBERTa\n",
    "\n",
    "Este notebook está diseñado para entrenar un modelo de clasificación de texto utilizando la biblioteca `transformers` de Hugging Face, específicamente con el modelo `RobertaForSequenceClassification` para la tarea de clasificación de emociones en texto. El conjunto de datos utilizado es GoEmotions, un conjunto de datos de emociones en texto."
   ]
  },
  {
   "cell_type": "markdown",
   "metadata": {},
   "source": [
    "## Sección  1: Importación de librerías y configuración inicial\n",
    "\n",
    "- Se importan las librerías necesarias: `transformers` para el modelo y el tokenizador, `datasets` para cargar y manipular el conjunto de datos, `torch` para el procesamiento y el entrenamiento del modelo, y `numpy` para la manipulación de arrays.\n",
    "- Se define el nombre del modelo `roberta-base` y la carpeta donde se guardará el modelo entrenado."
   ]
  },
  {
   "cell_type": "code",
   "execution_count": null,
   "metadata": {},
   "outputs": [],
   "source": [
    "from transformers import RobertaTokenizer, RobertaForSequenceClassification, Trainer, TrainingArguments, pipeline, AutoConfig\n",
    "from datasets import load_dataset\n",
    "import torch\n",
    "import numpy as np"
   ]
  },
  {
   "cell_type": "code",
   "execution_count": null,
   "metadata": {},
   "outputs": [],
   "source": [
    "model_name = 'roberta-base'\n",
    "model_folder = 'roberta-goemotions/'"
   ]
  },
  {
   "cell_type": "markdown",
   "metadata": {},
   "source": [
    "## Sección  2: Definición de emociones de interés\n",
    "\n",
    "- Se establece un conjunto de emociones que se desean clasificar.\n",
    "- Se crea un conjunto de emociones no útiles que se excluyen del análisis.\n",
    "- Se calcula el conjunto de emociones de interés restando las no útiles del conjunto total de emociones.\n"
   ]
  },
  {
   "cell_type": "code",
   "execution_count": null,
   "metadata": {},
   "outputs": [],
   "source": [
    "emotions = {'admiration', 'amusement', 'anger', 'annoyance', 'approval', 'caring', 'confusion', 'curiosity', 'desire', 'disappointment', 'disapproval', 'disgust', 'embarrassment', \n",
    "            'excitement', 'fear', 'gratitude', 'grief', 'joy', 'love', 'nervousness', 'optimism', 'pride', 'realization', 'relief', 'remorse', 'sadness', 'surprise', 'neutral'}\n",
    "non_useful_emotions = {'disgust','disappointment','grief','disapproval', 'amusement', 'excitement', 'optimism','caring', 'pride', 'admiration', 'relief', 'approval', 'realization', 'surprise', 'curiosity', 'remorse', 'embarrassment', 'neutral'}\n",
    "emotions_of_interest = emotions - non_useful_emotions\n",
    "emotions_of_interest"
   ]
  },
  {
   "cell_type": "markdown",
   "metadata": {},
   "source": [
    "## Sección  3: Carga y preparación del conjunto de datos\n",
    "\n",
    "- Se carga el conjunto de datos GoEmotions en su formato bruto y se divide en conjuntos de entrenamiento y prueba.\n",
    "- Se define una función para filtrar columnas que no son útiles y otra para convertir las emociones en etiquetas numéricas.\n",
    "- Se filtran las columnas no útiles y se aplica la función de etiquetado.\n",
    "- Se filtra el conjunto de datos para incluir solo las filas que contienen al menos una emoción de interés."
   ]
  },
  {
   "cell_type": "code",
   "execution_count": null,
   "metadata": {},
   "outputs": [],
   "source": [
    "# Load the GoEmotions dataset\n",
    "dataset = load_dataset(\"go_emotions\", \"raw\", split='train')\n",
    "#dataset = dataset.train_test_split(test_size=0.2)\n",
    "dataset = dataset.train_test_split(train_size=100, test_size=100)\n",
    "dataset"
   ]
  },
  {
   "cell_type": "code",
   "execution_count": null,
   "metadata": {},
   "outputs": [],
   "source": [
    "def filter_columns(column_name):\n",
    "    return column_name not in useful_columns\n",
    "\n",
    "def labelize(dataset):\n",
    "    return {\"labels\": [dataset[column] for column in emotions]}\n",
    "\n",
    "def filter_row(dataset):\n",
    "    return 1 in dataset['labels']\n",
    "\n",
    "useful_columns = emotions.copy()\n",
    "useful_columns.add('text')\n",
    "non_useful_columns = dataset['train'].column_names\n",
    "non_useful_columns = filter(filter_columns, non_useful_columns)\n",
    "non_useful_columns = list(non_useful_columns)\n",
    "dataset = dataset.remove_columns(non_useful_columns)\n",
    "dataset = dataset.map(labelize)\n",
    "dataset = dataset.filter(filter_row)\n",
    "dataset"
   ]
  },
  {
   "cell_type": "code",
   "execution_count": null,
   "metadata": {},
   "outputs": [],
   "source": [
    "dataset['test'][0]"
   ]
  },
  {
   "cell_type": "markdown",
   "metadata": {},
   "source": [
    "## Sección  4: Tokenización y preparación del conjunto de datos\n",
    "\n",
    "- Se inicializa el tokenizador `RobertaTokenizer` con el modelo `roberta-base`.\n",
    "- Se define una función para tokenizar el texto del conjunto de datos.\n",
    "- Se aplica la tokenización al conjunto de datos y se elimina el texto original."
   ]
  },
  {
   "cell_type": "code",
   "execution_count": null,
   "metadata": {},
   "outputs": [],
   "source": [
    "# Tokenizer and model\n",
    "tokenizer = RobertaTokenizer.from_pretrained(model_name)"
   ]
  },
  {
   "cell_type": "code",
   "execution_count": null,
   "metadata": {},
   "outputs": [],
   "source": [
    "def tokenize(dataset):\n",
    "  return tokenizer(dataset['text'], truncation=True)\n",
    "\n",
    "dataset_columns = dataset[\"train\"].column_names\n",
    "dataset_columns.remove('labels')\n",
    "encoded_dataset = dataset.map(tokenize, batched=True, remove_columns=dataset_columns)\n",
    "encoded_dataset"
   ]
  },
  {
   "cell_type": "code",
   "execution_count": null,
   "metadata": {},
   "outputs": [],
   "source": [
    "encoded_dataset['test'][0]"
   ]
  },
  {
   "cell_type": "markdown",
   "metadata": {},
   "source": [
    "## Sección  5: Reformateo de las etiquetas\n",
    "\n",
    "- Se define una función para convertir las etiquetas de emociones en un formato numérico.\n",
    "- Se aplica esta función al conjunto de datos y se renombra la columna de etiquetas."
   ]
  },
  {
   "cell_type": "code",
   "execution_count": null,
   "metadata": {},
   "outputs": [],
   "source": [
    "def reformat(dataset):\n",
    "    array = dataset[\"labels\"]\n",
    "    np_array = np.asarray(array)\n",
    "    torch_array = torch.from_numpy(np_array)\n",
    "    torch_array = torch_array.to(torch.float)\n",
    "    return {\"float_labels\": torch_array}\n",
    "\n",
    "# cast label IDs to floats\n",
    "encoded_dataset.set_format(\"torch\")\n",
    "encoded_dataset = encoded_dataset.map(reformat, remove_columns=[\"labels\"])\n",
    "encoded_dataset = encoded_dataset.rename_column(\"float_labels\", \"labels\")\n",
    "encoded_dataset"
   ]
  },
  {
   "cell_type": "code",
   "execution_count": null,
   "metadata": {},
   "outputs": [],
   "source": [
    "encoded_dataset['test'][0]"
   ]
  },
  {
   "cell_type": "markdown",
   "metadata": {},
   "source": [
    "## Sección  6: Configuración del modelo y argumentos de entrenamiento\n",
    "\n",
    "- Se crea un mapeo de ID a etiqueta para las emociones.\n",
    "- Se configura el modelo `RobertaForSequenceClassification` con la configuración personalizada y el mapeo de ID a etiqueta.\n",
    "- Se establecen los argumentos de entrenamiento, incluyendo el número de épocas, el tamaño del lote, la tasa de aprendizaje, y la estrategia de evaluación.\n"
   ]
  },
  {
   "cell_type": "code",
   "execution_count": null,
   "metadata": {},
   "outputs": [],
   "source": [
    "# Create an id2label mapping\n",
    "id2label = {i: label for i, label in enumerate(emotions)}\n",
    "\n",
    "config = AutoConfig.from_pretrained(model_name)\n",
    "config.update({\"id2label\": id2label})\n",
    "config.update({\"problem_type\": \"multi_label_classification\"})\n",
    "config"
   ]
  },
  {
   "cell_type": "code",
   "execution_count": null,
   "metadata": {},
   "outputs": [],
   "source": [
    "# load model\n",
    "model = RobertaForSequenceClassification.from_pretrained(model_name, config=config)"
   ]
  },
  {
   "cell_type": "code",
   "execution_count": null,
   "metadata": {},
   "outputs": [],
   "source": [
    "# Define training arguments\n",
    "training_args = TrainingArguments(\n",
    "    output_dir=model_folder,\n",
    "    num_train_epochs=3,\n",
    "    per_device_train_batch_size=8,\n",
    "    per_device_eval_batch_size=8,\n",
    "    save_steps=500,\n",
    "    save_total_limit=2,\n",
    "    learning_rate=2e-5,\n",
    "    evaluation_strategy=\"steps\",\n",
    "    eval_steps=500,\n",
    "    logging_steps=100,\n",
    ")\n",
    "training_args = TrainingArguments(model_folder, num_train_epochs=1)"
   ]
  },
  {
   "cell_type": "markdown",
   "metadata": {},
   "source": [
    "## Sección  7: Entrenamiento del modelo\n",
    "\n",
    "- Se inicializa el entrenador `Trainer` con el modelo, los argumentos de entrenamiento, y los conjuntos de datos de entrenamiento y prueba.\n",
    "- Se entrena el modelo y se evalúa su rendimiento.\n",
    "- Se guarda el modelo entrenado y el tokenizador en la carpeta especificada.\n"
   ]
  },
  {
   "cell_type": "code",
   "execution_count": null,
   "metadata": {},
   "outputs": [],
   "source": [
    "# Define Trainer\n",
    "trainer = Trainer(\n",
    "    model=model,\n",
    "    args=training_args,\n",
    "    train_dataset=encoded_dataset['train'],\n",
    "    eval_dataset=encoded_dataset['test'],\n",
    "    tokenizer=tokenizer\n",
    ")"
   ]
  },
  {
   "cell_type": "code",
   "execution_count": null,
   "metadata": {},
   "outputs": [],
   "source": [
    "# Train the model\n",
    "trainer.evaluate()"
   ]
  },
  {
   "cell_type": "code",
   "execution_count": null,
   "metadata": {},
   "outputs": [],
   "source": [
    "trainer.train()"
   ]
  },
  {
   "cell_type": "code",
   "execution_count": null,
   "metadata": {},
   "outputs": [],
   "source": [
    "# Save the model\n",
    "model.save_pretrained(model_folder)\n",
    "tokenizer.save_pretrained(model_folder)"
   ]
  },
  {
   "cell_type": "code",
   "execution_count": null,
   "metadata": {},
   "outputs": [],
   "source": [
    "## Sección  8: Análisis de sentimientos\n",
    "\n",
    "- Se utiliza un módulo `LyricSentiment` para analizar el sentimiento de un texto lírico.\n",
    "- Se compara el resultado del análisis sin procesar con el resultado después de limpiar las emociones.\n",
    "- Se calcula la diferencia entre las emociones detectadas y las emociones limpiadas.\n",
    "\n",
    "Este notebook es un ejemplo práctico de cómo utilizar la biblioteca `transformers` para entrenar un modelo de clasificación de texto en la tarea de clasificación de emociones, y cómo aplicar este modelo para analizar el sentimiento de un texto."
   ]
  },
  {
   "cell_type": "code",
   "execution_count": null,
   "metadata": {},
   "outputs": [],
   "source": [
    "from utils import  LyricSentiment\n",
    "LyricSentiment.set_model(model_folder)\n",
    "raw_sentiments = LyricSentiment.__analyze(\"\"\"\n",
    "It's been seven hours and fifteen days\n",
    "Since u took your love away\n",
    "I go out every night and sleep all day\n",
    "Since you took your love away\n",
    "Since you been gone I can do whatever I want\n",
    "I can see whomever I choose\n",
    "I can eat my dinner in a fancy restaurant\n",
    "But nothing\n",
    "I said nothing can take away these blues\n",
    "'Cause nothing compares\n",
    "Nothing compares to you\n",
    "It's been so lonely without you here\n",
    "Like a bird without a song\n",
    "Nothing can stop these lonely tears from falling\n",
    "Tell me baby where did I go wrong\n",
    "I could put my arms around every boy I see\n",
    "But they'd only remind me of you\n",
    "I went to the doctor and guess what he told me\n",
    "Guess what he told me\n",
    "He said girl you better have fun\n",
    "No matter what you do\n",
    "But he's a fool\n",
    "'Cause nothing compares\n",
    "Nothing compares to you\n",
    "All the flowers that you planted, mama\n",
    "In the back yard\n",
    "All died when you went away\n",
    "I know that living with you baby was sometimes hard\n",
    "But I'm willing to give it another try\n",
    "Nothing compares\n",
    "Nothing compares to you\n",
    "Nothing compares\n",
    "Nothing compares to you\n",
    "Nothing compares\n",
    "Nothing compares to you\n",
    "\"\"\")\n",
    "raw_sentiments"
   ]
  },
  {
   "cell_type": "code",
   "execution_count": null,
   "metadata": {},
   "outputs": [],
   "source": [
    "cleared_emotions = LyricSentiment.sentiments(\"\"\"\n",
    "It's been seven hours and fifteen days\n",
    "Since u took your love away\n",
    "I go out every night and sleep all day\n",
    "Since you took your love away\n",
    "Since you been gone I can do whatever I want\n",
    "I can see whomever I choose\n",
    "I can eat my dinner in a fancy restaurant\n",
    "But nothing\n",
    "I said nothing can take away these blues\n",
    "'Cause nothing compares\n",
    "Nothing compares to you\n",
    "It's been so lonely without you here\n",
    "Like a bird without a song\n",
    "Nothing can stop these lonely tears from falling\n",
    "Tell me baby where did I go wrong\n",
    "I could put my arms around every boy I see\n",
    "But they'd only remind me of you\n",
    "I went to the doctor and guess what he told me\n",
    "Guess what he told me\n",
    "He said girl you better have fun\n",
    "No matter what you do\n",
    "But he's a fool\n",
    "'Cause nothing compares\n",
    "Nothing compares to you\n",
    "All the flowers that you planted, mama\n",
    "In the back yard\n",
    "All died when you went away\n",
    "I know that living with you baby was sometimes hard\n",
    "But I'm willing to give it another try\n",
    "Nothing compares\n",
    "Nothing compares to you\n",
    "Nothing compares\n",
    "Nothing compares to you\n",
    "Nothing compares\n",
    "Nothing compares to you\n",
    "\"\"\")\n",
    "cleared_emotions"
   ]
  },
  {
   "cell_type": "code",
   "execution_count": null,
   "metadata": {},
   "outputs": [],
   "source": [
    "difference = {key: raw_sentiments[key] - cleared_emotions[key] for key in raw_sentiments if key in cleared_emotions}\n",
    "difference = dict(sorted(difference.items(), key=lambda dict: dict[1]))\n",
    "difference"
   ]
  }
 ],
 "metadata": {
  "kernelspec": {
   "display_name": ".venv",
   "language": "python",
   "name": "python3"
  },
  "language_info": {
   "codemirror_mode": {
    "name": "ipython",
    "version": 3
   },
   "file_extension": ".py",
   "mimetype": "text/x-python",
   "name": "python",
   "nbconvert_exporter": "python",
   "pygments_lexer": "ipython3",
   "version": "3.11.5"
  }
 },
 "nbformat": 4,
 "nbformat_minor": 2
}
