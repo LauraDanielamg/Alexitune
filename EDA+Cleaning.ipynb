{
 "cells": [
  {
   "cell_type": "code",
   "execution_count": 17,
   "metadata": {},
   "outputs": [],
   "source": [
    "import pandas as pd \n",
    "import re\n",
    "from utils import Cleaning\n",
    "import os\n",
    "\n",
    "#Ignorar Advertencias: Se manejan las advertencias de deprecación para mantener un entorno limpio y sin interrupciones.\n",
    "import warnings \n",
    "def fxn():\n",
    "    warnings.warn(\"deprecated\", DeprecationWarning)\n",
    "with warnings.catch_warnings(action=\"ignore\"):\n",
    "    fxn()"
   ]
  },
  {
   "cell_type": "markdown",
   "metadata": {},
   "source": [
    "# Etapa 2 - Exploración inicial y normalización de las letras de canciones"
   ]
  },
  {
   "cell_type": "code",
   "execution_count": 18,
   "metadata": {},
   "outputs": [],
   "source": [
    "#Leemos el dataset inicial \n",
    "df = pd.read_csv(\"./datasets/raw_songs.csv\")"
   ]
  },
  {
   "cell_type": "code",
   "execution_count": 19,
   "metadata": {},
   "outputs": [
    {
     "data": {
      "text/plain": [
       "array(['romanization', 'en', 'fr', 'de', 'es', 'ru', 'la', 'ak', nan,\n",
       "       'sco', 'da', 'mk', 'sr', 'pt', 'no', 'nl', 'bug', 'be', 'ko', 'bg',\n",
       "       'ml', 'cs', 'eu', 'ar', 'ne', 'tl'], dtype=object)"
      ]
     },
     "execution_count": 19,
     "metadata": {},
     "output_type": "execute_result"
    }
   ],
   "source": [
    "#Verificamos el lenguaje de las canciones extraidas\n",
    "df['Language'].unique()"
   ]
  },
  {
   "cell_type": "code",
   "execution_count": 20,
   "metadata": {},
   "outputs": [
    {
     "data": {
      "text/plain": [
       "814"
      ]
     },
     "execution_count": 20,
     "metadata": {},
     "output_type": "execute_result"
    }
   ],
   "source": [
    "#Verificamos el numero de artistas\n",
    "df['Artist'].nunique()"
   ]
  },
  {
   "cell_type": "code",
   "execution_count": 21,
   "metadata": {},
   "outputs": [
    {
     "data": {
      "text/plain": [
       "(5276, 7)"
      ]
     },
     "execution_count": 21,
     "metadata": {},
     "output_type": "execute_result"
    }
   ],
   "source": [
    "#Filtramos las canciones en inglés\n",
    "filtered_df = df.loc[df['Language'].isin(['en'])]\n",
    "\n",
    "filtered_df.shape"
   ]
  },
  {
   "cell_type": "code",
   "execution_count": 22,
   "metadata": {},
   "outputs": [
    {
     "data": {
      "text/plain": [
       "array(['en'], dtype=object)"
      ]
     },
     "execution_count": 22,
     "metadata": {},
     "output_type": "execute_result"
    }
   ],
   "source": [
    "#Nos aseguramos de que quede todo en ingles\n",
    "filtered_df['Language'].unique()"
   ]
  },
  {
   "cell_type": "code",
   "execution_count": 23,
   "metadata": {},
   "outputs": [
    {
     "data": {
      "text/plain": [
       "715"
      ]
     },
     "execution_count": 23,
     "metadata": {},
     "output_type": "execute_result"
    }
   ],
   "source": [
    "#Verificamos la cantidad de artistas\n",
    "filtered_df['Artist'].nunique()"
   ]
  },
  {
   "cell_type": "code",
   "execution_count": 24,
   "metadata": {},
   "outputs": [
    {
     "data": {
      "text/plain": [
       "True"
      ]
     },
     "execution_count": 24,
     "metadata": {},
     "output_type": "execute_result"
    }
   ],
   "source": [
    "#Verificamos si hay alguna letra vacia\n",
    "filtered_df['Lyrics'].isna().any()\n"
   ]
  },
  {
   "cell_type": "code",
   "execution_count": 25,
   "metadata": {},
   "outputs": [
    {
     "data": {
      "text/plain": [
       "131"
      ]
     },
     "execution_count": 25,
     "metadata": {},
     "output_type": "execute_result"
    }
   ],
   "source": [
    "#Dado que sabemos que si, contamos cuantas\n",
    "filtered_df['Lyrics'].isna().sum()"
   ]
  },
  {
   "cell_type": "code",
   "execution_count": 26,
   "metadata": {},
   "outputs": [],
   "source": [
    "#Creamos un nuevo dataset solo con las que tengan letra\n",
    "df_with_lyrics = filtered_df.loc[~filtered_df['Lyrics'].isna()]"
   ]
  },
  {
   "cell_type": "code",
   "execution_count": 27,
   "metadata": {},
   "outputs": [
    {
     "data": {
      "text/plain": [
       "(5145, 7)"
      ]
     },
     "execution_count": 27,
     "metadata": {},
     "output_type": "execute_result"
    }
   ],
   "source": [
    "#Verificamos el numero de registros\n",
    "df_with_lyrics.shape"
   ]
  },
  {
   "cell_type": "code",
   "execution_count": 28,
   "metadata": {},
   "outputs": [
    {
     "data": {
      "text/plain": [
       "701"
      ]
     },
     "execution_count": 28,
     "metadata": {},
     "output_type": "execute_result"
    }
   ],
   "source": [
    "#Verificamos el numero de artistas\n",
    "df_with_lyrics['Artist'].nunique()"
   ]
  },
  {
   "cell_type": "code",
   "execution_count": 29,
   "metadata": {},
   "outputs": [
    {
     "name": "stdout",
     "output_type": "stream",
     "text": [
      "1     Yup, yeah yeahOh, hahahahaYup yup yup yup yup ...\n",
      "2     12Hunna on the beatFor my squad, I go hardI lo...\n",
      "3     I'm gettin' high as fuck in this, trippy nigga...\n",
      "4     You be anything you wantJust keep going, going...\n",
      "5     One, two, three, fourWaking up dead, inside of...\n",
      "7     I'm feeling like a man of the hour, tear down ...\n",
      "8     I'm tryin' to go to churchGet some chicken win...\n",
      "10    Let me put you on gameLet me put you on gameDo...\n",
      "11    YeahYeah\"The Cool\"Turn me up, uh-huh, yeahHe c...\n",
      "12    I was so high I did not recognizeThe fire burn...\n",
      "13    Hit that, hit that snareI'm in the business of...\n",
      "14    Tonight, tonight, tonightThe stars are aligned...\n",
      "15    R.I.P we just killed the clubTook Patrón to th...\n",
      "16    Young Chop on the beatAyy, ayy, ayy, ayy, ayyB...\n",
      "17    UhI thought I'd probably die in prison, expens...\n",
      "18    K.E On The TrackMe and my niggas we ballin'We ...\n",
      "19    Mike WiLL Made itYahHuh, huh, yah, huh, yahBan...\n",
      "20    Beep, beepGBE the squad (GBE, baby)It's just u...\n",
      "21    I walked through the door with you, the air wa...\n",
      "25    I know, I know but I gotta get up outta here, ...\n",
      "Name: Lyrics, dtype: object\n"
     ]
    }
   ],
   "source": [
    "#Visualizamos como vienen las letras\n",
    "print(df_with_lyrics['Lyrics'].head(20))"
   ]
  },
  {
   "cell_type": "markdown",
   "metadata": {},
   "source": [
    "Mostrar las primeras filas de la columna 'Lyrics'"
   ]
  },
  {
   "cell_type": "markdown",
   "metadata": {},
   "source": [
    "Tenemos las letras, vamos a proceder a:\n",
    "* Eliminar caracteres no deseados [x]\n",
    "\n",
    "* Dejar solo palabras en Ingles\n",
    "* Pasar palabras contraidas a dos palabras\n",
    "* Revisar palabras unidas o saltos de lineas"
   ]
  },
  {
   "cell_type": "code",
   "execution_count": 30,
   "metadata": {},
   "outputs": [],
   "source": [
    "df_with_lyrics_copy = df_with_lyrics.copy()\n",
    "df_with_lyrics_copy['Lyrics'] = df_with_lyrics_copy['Lyrics'].apply(Cleaning.clean_text)\n"
   ]
  },
  {
   "cell_type": "code",
   "execution_count": null,
   "metadata": {},
   "outputs": [],
   "source": [
    "directory = 'datasets'\n",
    "if not os.path.exists(directory):\n",
    "    os.makedirs(directory)\n",
    "    \n",
    "df = df_with_lyrics_copy\n",
    "df.to_csv('datasets/songs_cleaned.csv')"
   ]
  }
 ],
 "metadata": {
  "kernelspec": {
   "display_name": "venv",
   "language": "python",
   "name": "python3"
  },
  "language_info": {
   "codemirror_mode": {
    "name": "ipython",
    "version": 3
   },
   "file_extension": ".py",
   "mimetype": "text/x-python",
   "name": "python",
   "nbconvert_exporter": "python",
   "pygments_lexer": "ipython3",
   "version": "3.12.2"
  }
 },
 "nbformat": 4,
 "nbformat_minor": 2
}
