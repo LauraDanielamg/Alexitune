{
 "cells": [
  {
   "cell_type": "code",
   "execution_count": null,
   "metadata": {},
   "outputs": [],
   "source": [
    "from datasets import load_dataset\n",
    "from sweetviz import analyze\n",
    "from pandas import read_csv"
   ]
  },
  {
   "cell_type": "code",
   "execution_count": null,
   "metadata": {},
   "outputs": [],
   "source": [
    "dataset = load_dataset(\"go_emotions\", \"raw\")\n",
    "dataset"
   ]
  },
  {
   "cell_type": "code",
   "execution_count": null,
   "metadata": {},
   "outputs": [],
   "source": [
    "dataset['train'].to_csv('go-emotions.csv')"
   ]
  },
  {
   "cell_type": "code",
   "execution_count": null,
   "metadata": {},
   "outputs": [],
   "source": [
    "dataframe = read_csv('go-emotions.csv')\n",
    "dataframe"
   ]
  },
  {
   "cell_type": "code",
   "execution_count": null,
   "metadata": {},
   "outputs": [],
   "source": [
    "dataframe.info()"
   ]
  },
  {
   "cell_type": "code",
   "execution_count": null,
   "metadata": {},
   "outputs": [],
   "source": [
    "dataframe.describe()"
   ]
  },
  {
   "cell_type": "code",
   "execution_count": null,
   "metadata": {},
   "outputs": [],
   "source": [
    "report = analyze(dataframe)\n",
    "report.show_html(\"informe_sweetviz.html\")"
   ]
  },
  {
   "cell_type": "code",
   "execution_count": null,
   "metadata": {},
   "outputs": [],
   "source": [
    "import json\n",
    "file = open('song sentiments.txt')\n",
    "txt = file.read()\n",
    "txt"
   ]
  },
  {
   "cell_type": "code",
   "execution_count": null,
   "metadata": {},
   "outputs": [],
   "source": [
    "def clear_name(name: str) -> str:\n",
    "    return name.split(':')[1].strip().strip(\"\\\"\")\n",
    "\n",
    "def clear_artist(artist: str) -> str:\n",
    "    return artist.split(':')[1].strip()\n",
    "\n",
    "def clear_sentiments(sentiments: str) -> str:\n",
    "    sentiments = sentiments.split(':')[1:]\n",
    "    return ':'.join(sentiments).strip()\n",
    "\n",
    "def format_sentiments(sentiments: str) -> dict:\n",
    "    sentiments = sentiments.replace('\\'', '\\\"')\n",
    "    return json.loads(sentiments)\n",
    "\n",
    "def to_dict(group: tuple) -> dict:\n",
    "    song_name = clear_name(group[0])\n",
    "    artist = clear_artist(group[1])\n",
    "    sentiments = clear_sentiments(group[2])\n",
    "    sentiments = format_sentiments(sentiments)\n",
    "    return {\n",
    "        'song_name': song_name,\n",
    "        'artist': artist,\n",
    "        'sentiments': sentiments\n",
    "        }\n",
    "\n",
    "groups = txt.split('\\n')\n",
    "groups = zip(*[iter(groups)]*3)\n",
    "groups = map(to_dict, groups)\n",
    "groups = list(groups)\n",
    "groups"
   ]
  }
 ],
 "metadata": {
  "kernelspec": {
   "display_name": ".venv",
   "language": "python",
   "name": "python3"
  },
  "language_info": {
   "codemirror_mode": {
    "name": "ipython",
    "version": 3
   },
   "file_extension": ".py",
   "mimetype": "text/x-python",
   "name": "python",
   "nbconvert_exporter": "python",
   "pygments_lexer": "ipython3",
   "version": "3.9.6"
  }
 },
 "nbformat": 4,
 "nbformat_minor": 2
}
