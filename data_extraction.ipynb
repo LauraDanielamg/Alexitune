{
 "cells": [
  {
   "cell_type": "code",
   "execution_count": null,
   "metadata": {},
   "outputs": [],
   "source": [
    "from pandas import DataFrame\n",
    "import json\n",
    "from lyricsgenius import Genius\n",
    "from utils import ArtistSongs, Artists, Charts, Songs, Lyrics, DownloadChorus\n",
    "import os"
   ]
  },
  {
   "cell_type": "markdown",
   "metadata": {},
   "source": [
    "# Notebook para la extracción de los datos y creación del dataset principal\n",
    "\n",
    "Este notebook  se centra en la extracción de datos de canciones utilizando la API de Genius. \n",
    "\n",
    "El objetivo principal es recopilar información relevante sobre canciones, incluyendo sus letras, artista, entre otros, y almacenarlas en un formato estructurado para su posterior análisis y uso con los modelos propuestos."
   ]
  },
  {
   "cell_type": "markdown",
   "metadata": {},
   "source": [
    "# Configuración de la API\n",
    "Aquí se inicializa la conexión con la API de Genius utilizando el token proporcionado. Esto es esencial para autenticarse y acceder a los datos disponibles en Genius.\n"
   ]
  },
  {
   "cell_type": "code",
   "execution_count": null,
   "metadata": {},
   "outputs": [],
   "source": [
    "genius = Genius('token')"
   ]
  },
  {
   "cell_type": "code",
   "execution_count": null,
   "metadata": {},
   "outputs": [],
   "source": [
    "Artists.genius = genius\n",
    "ArtistSongs.genius = genius\n",
    "Charts.genius = genius\n",
    "Songs.genius = genius\n",
    "Lyrics.genius = genius"
   ]
  },
  {
   "cell_type": "markdown",
   "metadata": {},
   "source": [
    "# Recolección de Datos\n",
    "En esta sección, se descargan los datos de las listas de reproducción, canciones, letras y detalles de los artistas. Esto se hace utilizando las funciones proporcionadas por el módulo `utils`, que simplifican la interacción con la API de Genius.\n"
   ]
  },
  {
   "cell_type": "code",
   "execution_count": null,
   "metadata": {},
   "outputs": [],
   "source": [
    "Charts.chart_download()\n",
    "ArtistSongs.load_from_charts()\n",
    "Lyrics.load_from_artist_songs()"
   ]
  },
  {
   "cell_type": "markdown",
   "metadata": {},
   "source": [
    "# Mapeo de Información\n",
    "Se crea una función para mapear la información de cada canción a un diccionario estándar. Esto incluye ID de la canción, nombre, artista, ID del artista, idioma de la canción y las letras. La función `map_song` es responsable de recopilar toda esta información en un formato estructurado.\n"
   ]
  },
  {
   "cell_type": "code",
   "execution_count": null,
   "metadata": {},
   "outputs": [],
   "source": [
    "#Mapeo de Información: Se crea una función para mapear la información de cada canción a un diccionario estándar.\n",
    "def id(song) -> int:\n",
    "    return song._id\n",
    "\n",
    "def name(song) -> str:\n",
    "    return song.title\n",
    "\n",
    "def artist(song) -> str:\n",
    "    return song.artist\n",
    "\n",
    "def artist_id(song) -> int:\n",
    "    song_json = song.to_json()\n",
    "    song_json = json.loads(song_json)\n",
    "    return song_json.get('primary_artist', {}).get('id', None)\n",
    "\n",
    "def language(song) -> str:\n",
    "    song_json = song.to_json()\n",
    "    song_json = json.loads(song_json)\n",
    "    return song_json.get('language', None)\n",
    "\n",
    "def lyrics(song) -> str:\n",
    "    lyrics = Lyrics.lyrics(song._id)\n",
    "    print(lyrics)\n",
    "    lyrics = lyrics.split('\\n')[1:]\n",
    "    return \"\".join(lyrics)\n",
    "\n",
    "def map_song(song) -> dict:\n",
    "    return {\n",
    "        'ID': id(song),\n",
    "        'Name': name(song),\n",
    "        'Artist': artist(song),\n",
    "        'Artist ID': artist_id(song),\n",
    "        'Language': language(song),\n",
    "        'Lyrics': lyrics(song)\n",
    "    }\n",
    "\n",
    "songs = Songs.songs()\n",
    "songs_dict = list(map(map_song, songs))"
   ]
  },
  {
   "cell_type": "markdown",
   "metadata": {},
   "source": [
    "# Exportación de Datos\n",
    "Finalmente, se guarda toda la información recopilada en un archivo CSV para su posterior análisis. Este paso es crucial para asegurar que los datos estén disponibles en un formato que sea fácil de importar y utilizar en otros proyectos o análisis de datos.\n"
   ]
  },
  {
   "cell_type": "code",
   "execution_count": null,
   "metadata": {},
   "outputs": [],
   "source": [
    "#Exportación de Datos: Finalmente, se guarda toda la información recopilada en un archivo CSV para su posterior análisis.\n",
    "directory = 'datasets'\n",
    "if not os.path.exists(directory):\n",
    "    os.makedirs(directory)\n",
    "    \n",
    "df = DataFrame(songs_dict)\n",
    "df.to_csv('datasets/raw_songs.csv')"
   ]
  },
  {
   "cell_type": "markdown",
   "metadata": {},
   "source": [
    "# Bonus - Extracción de estribillos\n",
    "\n",
    "Como parte adicional creamos algunas funciones para extraer solo el estribillo de las canciones. Esto nos sirvio para construir nuestro datasert de validación que etiqueamos manualmente"
   ]
  },
  {
   "cell_type": "code",
   "execution_count": null,
   "metadata": {},
   "outputs": [],
   "source": [
    "# Lista de artistas a extraer\n",
    "artists = [\"Kanye West\", \"Cardi B\", \"Lil Nas X\", \"Kelsea Ballerini\", \"Gabby Barrett\", \"Jason Aldean\", \"The Chainsmokers\",\n",
    "    \"Marshmello\", \"Calvin Harris\", \"David Guetta\", \"Zedd\", \"Lorde\", \"Phoebe Bridgers\",\n",
    "    \"Tame Impala\", \"Vampire Weekend\", \"Glass Animals\", \"Michael Bublé\", \"Josh Groban\",\n",
    "    \"Rod Stewart\", \"Celine Dion\", \"Norah Jones\""
   ]
  },
  {
   "cell_type": "code",
   "execution_count": null,
   "metadata": {},
   "outputs": [],
   "source": [
    "DownloadChorus.download_choruses(artists) #Posteriormente esta información la guardamos en un csv"
   ]
  }
 ],
 "metadata": {
  "kernelspec": {
   "display_name": "Python 3 (ipykernel)",
   "language": "python",
   "name": "python3"
  },
  "language_info": {
   "codemirror_mode": {
    "name": "ipython",
    "version": 3
   },
   "file_extension": ".py",
   "mimetype": "text/x-python",
   "name": "python",
   "nbconvert_exporter": "python",
   "pygments_lexer": "ipython3",
   "version": "3.11.5"
  }
 },
 "nbformat": 4,
 "nbformat_minor": 2
}
