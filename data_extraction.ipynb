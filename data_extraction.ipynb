{
 "cells": [
  {
   "cell_type": "code",
   "execution_count": null,
   "metadata": {},
   "outputs": [],
   "source": [
    "from pandas import DataFrame\n",
    "import json\n",
    "from lyricsgenius import Genius\n",
    "from utils import ArtistSongs, Artists, Charts, Songs, Lyrics\n",
    "from utils.Charts import Chart, ChartList\n",
    "import os"
   ]
  },
  {
   "cell_type": "markdown",
   "metadata": {},
   "source": [
    "# Notebook para la extracción de los datos y creación del dataset principal\n",
    "\n",
    "Este notebook  se centra en la extracción de datos de canciones utilizando la API de Genius. \n",
    "\n",
    "El objetivo principal es recopilar información relevante sobre canciones, incluyendo sus letras, artista, entre otros, y almacenarlas en un formato estructurado para su posterior análisis y uso con los modelos propuestos."
   ]
  },
  {
   "cell_type": "code",
   "execution_count": null,
   "metadata": {},
   "outputs": [],
   "source": [
    "#Configuración de la API: Se inicializa la conexión con la API de Genius utilizando el token proporcionado.\n",
    "Artists.genius = genius\n",
    "ArtistSongs.genius = genius\n",
    "Charts.genius = genius\n",
    "Songs.genius = genius\n",
    "Lyrics.genius = genius"
   ]
  },
  {
   "cell_type": "code",
   "execution_count": null,
   "metadata": {},
   "outputs": [],
   "source": [
    "#Recolección de Datos: Se descargan los datos de las listas de reproducción, canciones, letras y detalles de los artistas.\n",
    "Charts.chart_download()\n",
    "ArtistSongs.load_from_charts()\n",
    "Lyrics.load_from_artist_songs()"
   ]
  },
  {
   "cell_type": "code",
   "execution_count": null,
   "metadata": {},
   "outputs": [],
   "source": [
    "#Mapeo de Información: Se crea una función para mapear la información de cada canción a un diccionario estándar.\n",
    "def id(song) -> int:\n",
    "    return song._id\n",
    "\n",
    "def name(song) -> str:\n",
    "    return song.title\n",
    "\n",
    "def artist(song) -> str:\n",
    "    return song.artist\n",
    "\n",
    "def artist_id(song) -> int:\n",
    "    song_json = song.to_json()\n",
    "    song_json = json.loads(song_json)\n",
    "    return song_json.get('primary_artist', {}).get('id', None)\n",
    "\n",
    "def language(song) -> str:\n",
    "    song_json = song.to_json()\n",
    "    song_json = json.loads(song_json)\n",
    "    return song_json.get('language', None)\n",
    "\n",
    "def lyrics(song) -> str:\n",
    "    lyrics = Lyrics.lyrics(song._id)\n",
    "    print(lyrics)\n",
    "    lyrics = lyrics.split('\\n')[1:]\n",
    "    return \"\".join(lyrics)\n",
    "\n",
    "def map_song(song) -> dict:\n",
    "    return {\n",
    "        'ID': id(song),\n",
    "        'Name': name(song),\n",
    "        'Artist': artist(song),\n",
    "        'Artist ID': artist_id(song),\n",
    "        'Language': language(song),\n",
    "        'Lyrics': lyrics(song)\n",
    "    }\n",
    "\n",
    "songs = Songs.songs()\n",
    "songs_dict = list(map(map_song, songs))"
   ]
  },
  {
   "cell_type": "code",
   "execution_count": null,
   "metadata": {},
   "outputs": [],
   "source": [
    "#Exportación de Datos: Finalmente, se guarda toda la información recopilada en un archivo CSV para su posterior análisis.\n",
    "directory = 'datasets'\n",
    "if not os.path.exists(directory):\n",
    "    os.makedirs(directory)\n",
    "    \n",
    "df = DataFrame(songs_dict)\n",
    "df.to_csv('datasets/raw_songs.csv')"
   ]
  }
 ],
 "metadata": {
  "kernelspec": {
   "display_name": "Python 3 (ipykernel)",
   "language": "python",
   "name": "python3"
  },
  "language_info": {
   "codemirror_mode": {
    "name": "ipython",
    "version": 3
   },
   "file_extension": ".py",
   "mimetype": "text/x-python",
   "name": "python",
   "nbconvert_exporter": "python",
   "pygments_lexer": "ipython3",
   "version": "3.11.5"
  }
 },
 "nbformat": 4,
 "nbformat_minor": 2
}
